{
 "cells": [
  {
   "metadata": {},
   "cell_type": "markdown",
   "source": "# Codebook for State-Level Policies Affecting Agricultural Costs and Revenues in the U.S.: a comprehensive database (1975-2021), patterns, and analysis of policy correlates",
   "id": "6ffb0dad8fb3178a"
  },
  {
   "metadata": {},
   "cell_type": "code",
   "outputs": [],
   "execution_count": null,
   "source": "![](pics/booklogo.png)",
   "id": "fe5be5262f13e8d8"
  }
 ],
 "metadata": {
  "kernelspec": {
   "display_name": "Python 3",
   "language": "python",
   "name": "python3"
  },
  "language_info": {
   "codemirror_mode": {
    "name": "ipython",
    "version": 2
   },
   "file_extension": ".py",
   "mimetype": "text/x-python",
   "name": "python",
   "nbconvert_exporter": "python",
   "pygments_lexer": "ipython2",
   "version": "2.7.6"
  }
 },
 "nbformat": 4,
 "nbformat_minor": 5
}
