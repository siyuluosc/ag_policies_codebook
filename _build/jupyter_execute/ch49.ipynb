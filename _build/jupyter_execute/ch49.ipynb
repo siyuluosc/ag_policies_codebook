{
 "cells": [
  {
   "cell_type": "markdown",
   "metadata": {
    "collapsed": false,
    "pycharm": {
     "name": "#%% md\n"
    }
   },
   "source": [
    "# Ch 49 Virginia"
   ]
  },
  {
   "cell_type": "markdown",
   "metadata": {
    "collapsed": false,
    "pycharm": {
     "name": "#%% md\n"
    }
   },
   "source": [
    " [Virginia's Legislative Information System](https://lis.virginia.gov/lis.htm) stores all acts of assembly chapters in Virginia.\n",
    "\n",
    "![Virginia Legislature](pics/va_web.png)\n"
   ]
  },
  {
   "cell_type": "markdown",
   "metadata": {
    "collapsed": false,
    "pycharm": {
     "name": "#%% md\n"
    }
   },
   "source": [
    "## Import libraries\n",
    "As introduced in the chapter 1, we need to import some libraries as follows."
   ]
  },
  {
   "cell_type": "code",
   "execution_count": null,
   "metadata": {
    "collapsed": false,
    "pycharm": {
     "name": "#%%\n"
    }
   },
   "outputs": [],
   "source": [
    "import time\n",
    "from selenium import webdriver\n",
    "from selenium.webdriver.common.by import By\n",
    "from selenium.webdriver.support.ui import WebDriverWait\n",
    "from selenium.webdriver.support import expected_conditions as EC\n",
    "from selenium.webdriver.support.ui import Select\n",
    "from time import sleep\n",
    "import pandas as pd\n",
    "import datefinder\n",
    "import calendar\n",
    "import os\n",
    "import unittest\n",
    "from random import randint\n",
    "import PyPDF2\n",
    "import glob\n",
    "import pickle\n",
    "import numpy as np\n",
    "import fitz"
   ]
  },
  {
   "cell_type": "markdown",
   "metadata": {
    "collapsed": false,
    "pycharm": {
     "name": "#%% md\n"
    }
   },
   "source": [
    "## Browser setup\n",
    "\n",
    "Before scraping, we need to set up the browser. Here we use ChromeDriver for Google Chrome. You can download ChromeDriver from https://chromedriver.chromium.org/downloads following the version of Google Chrome you use on your laptop."
   ]
  },
  {
   "cell_type": "code",
   "execution_count": null,
   "metadata": {
    "collapsed": false,
    "pycharm": {
     "name": "#%%\n"
    }
   },
   "outputs": [],
   "source": [
    "driver_path = 'yourpath/driver'\n",
    "\n",
    "# Change the working directory to your path on your computer\n",
    "os.chdir('yourpath')\n",
    "\n",
    "# Get the working directory\n",
    "cwd = os.getcwd()\n",
    "# Print the current working directory\n",
    "print(\"Current working directory: {0}\".format(cwd))\n",
    "\n",
    "# Set up the driver\n",
    "chromeOptions = webdriver.ChromeOptions()\n",
    "dnldpath = {\"download.default_directory\": \"your_download_path\"}\n",
    "chromeOptions.add_experimental_option('prefs', {\n",
    "    \"download.default_directory\": dnldpath,  #Change default directory for downloads\n",
    "    \"download.prompt_for_download\": False,  #To auto download the file\n",
    "    \"download.directory_upgrade\": True,\n",
    "    \"plugins.always_open_pdf_externally\": True,  #It will not show PDF directly in chrome\n",
    "    \"--enable-javascript\": True\n",
    "})\n",
    "# Open the driver\n",
    "driver = webdriver.Chrome(executable_path=driver_path, options=chromeOptions)"
   ]
  },
  {
   "cell_type": "markdown",
   "metadata": {
    "collapsed": false,
    "pycharm": {
     "name": "#%% md\n"
    }
   },
   "outputs": [],
   "source": [
    "## PDF file download\n",
    "\n",
    "Under a session, clicking an act, we can download the act full text as a PDF file.\n",
    "\n",
    "![Virginia Legislature](pics/va_acts.png)"
   ]
  },
  {
   "cell_type": "code",
   "execution_count": null,
   "metadata": {
    "collapsed": false,
    "pycharm": {
     "name": "#%%\n"
    }
   },
   "outputs": [],
   "source": [
    "driver.get(\"https://lis.virginia.gov/lis.htm\")\n",
    "\n",
    "select_sessionyear = Select(driver.find_element_by_css_selector(\"#sLink > form > select\"))\n",
    "\n",
    "sessions = driver.find_elements_by_css_selector(\"#sLink > form > select > option\")\n",
    "\n",
    "session_texts = []\n",
    "\n",
    "for session in sessions:\n",
    "    print(session.text)\n",
    "    session_texts.append(session.text)\n",
    "\n",
    "act_urls = []\n",
    "for text in session_texts:\n",
    "    driver.get(\"https://lis.virginia.gov/lis.htm\")\n",
    "    WebDriverWait(driver, 60).until(\n",
    "        EC.element_to_be_clickable((By.CSS_SELECTOR, \"#sLink > form > select\"))\n",
    "    )\n",
    "    sleep(1)\n",
    "    select_sessionyear = Select(driver.find_element_by_css_selector(\"#sLink > form > select\"))\n",
    "    select_sessionyear.select_by_visible_text(text)\n",
    "    WebDriverWait(driver, 60).until(\n",
    "        EC.element_to_be_clickable((By.CSS_SELECTOR, \"#mainLink > li:nth-child(1) > a\"))\n",
    "    )\n",
    "    driver.find_element_by_css_selector(\"#mainLink > li:nth-child(1) > a\").click()\n",
    "    WebDriverWait(driver, 60).until(\n",
    "        EC.element_to_be_clickable((By.LINK_TEXT, \"Acts of Assembly chapters\"))\n",
    "    )\n",
    "    driver.find_element_by_link_text(\"Acts of Assembly chapters\").click()\n",
    "    sleep(1)\n",
    "    acts = driver.find_elements_by_css_selector(\"#mainC > ul > li > a\")\n",
    "    for i in range(0, 20):\n",
    "        acts = driver.find_elements_by_css_selector(\"#mainC > ul > li > a\")\n",
    "        for act in acts:\n",
    "            url = act.get_attribute(\"href\")\n",
    "            act_urls.append(url)\n",
    "        try:\n",
    "            driver.find_element_by_link_text(\"More...\").click()\n",
    "            sleep(1)\n",
    "        except:\n",
    "            print(\"skip\")\n",
    "\n",
    "acttxts = []\n",
    "checklist = []\n",
    "pdf_urls = []\n",
    "for url in act_urls:\n",
    "    try:\n",
    "        driver.get(url)\n",
    "        WebDriverWait(driver, 60).until(\n",
    "            EC.element_to_be_clickable((By.PARTIAL_LINK_TEXT, \"CHAP\"))\n",
    "        )\n",
    "        t = randint(0, 9) * 0.01\n",
    "        time.sleep(t)\n",
    "        driver.refresh()\n",
    "        driver.find_element_by_partial_link_text(\"CHAP\").click()\n",
    "        WebDriverWait(driver, 60).until(\n",
    "            EC.element_to_be_clickable((By.CSS_SELECTOR, \"body\"))\n",
    "        )\n",
    "        driver.refresh()\n",
    "        time.sleep(t)\n",
    "        acttxt = driver.find_element_by_css_selector(\"#mainC\").text\n",
    "        acttxts.append(acttxt)\n",
    "        pdf_url = driver.find_element_by_link_text(\"pdf\").get_attribute(\"href\")\n",
    "        driver.get(pdf_url)\n",
    "        pdf_urls.append(pdf_url)\n",
    "    except:\n",
    "        checklist.append(url)"
   ]
  },
  {
   "cell_type": "markdown",
   "metadata": {
    "collapsed": false,
    "pycharm": {
     "name": "#%% md\n"
    }
   },
   "source": [
    "## Text extraction and saving\n",
    "\n",
    "In this section, we used the below code to extract all full texts from PDF files and save all act full texts into several format files including excel, csv, pickle and json."
   ]
  },
  {
   "cell_type": "code",
   "execution_count": null,
   "metadata": {
    "collapsed": false,
    "pycharm": {
     "name": "#%%\n"
    }
   },
   "outputs": [],
   "source": [
    "datasource = pd.DataFrame({\n",
    "    'Full text': acttxts\n",
    "})\n",
    "\n",
    "datasource.drop_duplicates(subset = ['Full text'],\n",
    "                     keep = 'first', inplace = True, ignore_index= True)\n",
    "\n",
    "# save acts info into files\n",
    "datasource.to_excel('VA_Leginfo.xlsx')\n",
    "datasource.to_csv('VA_Leginfo.csv')\n",
    "datasource.to_pickle('VA_Leginfo.pkl')\n",
    "datasource.to_json('VA_Leginfo.json')"
   ]
  }
 ],
 "metadata": {
  "kernelspec": {
   "display_name": "py39",
   "language": "python",
   "name": "python3"
  },
  "language_info": {
   "codemirror_mode": {
    "name": "ipython",
    "version": 3
   },
   "file_extension": ".py",
   "mimetype": "text/x-python",
   "name": "python",
   "nbconvert_exporter": "python",
   "pygments_lexer": "ipython3",
   "version": "3.9.12 (main, Jun  1 2022, 06:36:29) \n[Clang 12.0.0 ]"
  },
  "vscode": {
   "interpreter": {
    "hash": "72db359963b886546324fdab9aa5857888ab40de550209afc182f1efe35e5205"
   }
  }
 },
 "nbformat": 4,
 "nbformat_minor": 0
}