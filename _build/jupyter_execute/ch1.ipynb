{
 "cells": [
  {
   "cell_type": "markdown",
   "metadata": {
    "pycharm": {
     "name": "#%% md\n"
    }
   },
   "source": [
    "# Chapter 1 Introduction"
   ]
  },
  {
   "cell_type": "markdown",
   "metadata": {},
   "source": [
    "We assemble and make public a novel database of all state-level legislation affecting the costs and revenues associated with agriculture in the United States for the period 1975 to 2021, no matter whether the objectives of those policies were directly related to agriculture or not. Using a combination of web-scraping, machine-learning methods, and artificial intelligence, we (i) analyze all state-level legislation the study 1975-2021 to identify any policies that are likely to affect agricultural costs and revenues, either directly or indirectly, (ii) develop a mechanism to classify whether and how each policy increases or decreases those same agricultural costs and revenues for specific commodities and crops within each state, and (iii) create a web-based tool to allow other researchers to search and browse collected policies by commodity or crop. We will use these data to answer three specific research questions. First, what are the broad patterns over time when it comes to agricultural policy in the U.S. Second, what are the geographical patterns? Third, we will analyze the correlates of agricultural policy within each state for the study period. Finally, we will write a codebook to allow researchers interested in using these data for their own research purposes, and we will make the codebook, data, and web-based tool publicly available through the websites of our respective institutions."
   ]
  }
 ],
 "metadata": {
  "kernelspec": {
   "display_name": "py39",
   "language": "python",
   "name": "python3"
  },
  "language_info": {
   "codemirror_mode": {
    "name": "ipython",
    "version": 3
   },
   "file_extension": ".py",
   "mimetype": "text/x-python",
   "name": "python",
   "nbconvert_exporter": "python",
   "pygments_lexer": "ipython3",
   "version": "3.10.12"
  },
  "vscode": {
   "interpreter": {
    "hash": "72db359963b886546324fdab9aa5857888ab40de550209afc182f1efe35e5205"
   }
  },
  "widgets": {
   "application/vnd.jupyter.widget-state+json": {
    "state": {},
    "version_major": 2,
    "version_minor": 0
   }
  }
 },
 "nbformat": 4,
 "nbformat_minor": 4
}