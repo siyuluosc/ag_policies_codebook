{
 "cells": [
  {
   "cell_type": "markdown",
   "metadata": {
    "collapsed": false,
    "pycharm": {
     "name": "#%% md\n"
    }
   },
   "source": [
    "# Ch 25 Michigan"
   ]
  },
  {
   "cell_type": "markdown",
   "metadata": {
    "collapsed": false,
    "pycharm": {
     "name": "#%% md\n"
    }
   },
   "source": [
    " [Michigan Legislature](https://www.legislature.mi.gov/) stores all public acts in Michigan since 1989. Its address is https://www.legislature.mi.gov/(S(0wetsrqlezkedtdyim2smihr).\n",
    "\n",
    "![Maine State Legislature](pics/mi_web.png)"
   ]
  },
  {
   "cell_type": "markdown",
   "metadata": {
    "collapsed": false,
    "pycharm": {
     "name": "#%% md\n"
    }
   },
   "source": [
    "## Import libraries\n",
    "As introduced in the chapter 1, we need to import some libraries as follows."
   ]
  },
  {
   "cell_type": "code",
   "execution_count": null,
   "metadata": {
    "collapsed": false,
    "pycharm": {
     "name": "#%%\n"
    }
   },
   "outputs": [],
   "source": [
    "import time\n",
    "from selenium import webdriver\n",
    "from selenium.webdriver.common.by import By\n",
    "from selenium.webdriver.support.ui import WebDriverWait\n",
    "from selenium.webdriver.support import expected_conditions as EC\n",
    "from selenium.webdriver.support.ui import Select\n",
    "from time import sleep\n",
    "import pandas as pd\n",
    "import datefinder\n",
    "import calendar\n",
    "import os\n",
    "import unittest\n",
    "from random import randint\n",
    "import PyPDF2\n",
    "import glob\n",
    "import pickle\n",
    "import numpy as np\n",
    "import fitz"
   ]
  },
  {
   "cell_type": "markdown",
   "metadata": {
    "collapsed": false,
    "pycharm": {
     "name": "#%% md\n"
    }
   },
   "source": [
    "## Browser setup\n",
    "\n",
    "Before scraping, we need to set up the browser. Here we use ChromeDriver for Google Chrome. You can download ChromeDriver from https://chromedriver.chromium.org/downloads following the version of Google Chrome you use on your laptop."
   ]
  },
  {
   "cell_type": "code",
   "execution_count": null,
   "metadata": {
    "collapsed": false,
    "pycharm": {
     "name": "#%%\n"
    }
   },
   "outputs": [],
   "source": [
    "driver_path = 'yourpath/driver'\n",
    "\n",
    "# Change the working directory to your path on your computer\n",
    "os.chdir('yourpath')\n",
    "\n",
    "# Get the working directory\n",
    "cwd = os.getcwd()\n",
    "# Print the current working directory\n",
    "print(\"Current working directory: {0}\".format(cwd))\n",
    "\n",
    "# Set up the driver\n",
    "chromeOptions = webdriver.ChromeOptions()\n",
    "dnldpath = {\"download.default_directory\": \"your_download_path\"}\n",
    "chromeOptions.add_experimental_option('prefs', {\n",
    "    \"download.default_directory\": dnldpath,  #Change default directory for downloads\n",
    "    \"download.prompt_for_download\": False,  #To auto download the file\n",
    "    \"download.directory_upgrade\": True,\n",
    "    \"plugins.always_open_pdf_externally\": True,  #It will not show PDF directly in chrome\n",
    "    \"--enable-javascript\": True\n",
    "})\n",
    "# Open the driver\n",
    "driver = webdriver.Chrome(executable_path=driver_path, options=chromeOptions)"
   ]
  },
  {
   "cell_type": "markdown",
   "metadata": {
    "collapsed": false,
    "pycharm": {
     "name": "#%% md\n"
    }
   },
   "outputs": [],
   "source": [
    "## PDF file download\n",
    "As shown below, choosing one legislative session, we can see the search results. ![Maine State Legislature](pics/mi_act.png)"
   ]
  },
  {
   "cell_type": "markdown",
   "metadata": {
    "collapsed": false,
    "pycharm": {
     "name": "#%% md\n"
    }
   },
   "source": [
    "\n",
    "On the search results web page, there are public acts shown up. Clicking one public act, two versions including html and PDF versions are available to be downloaded. We focus on using html versions.\n",
    "\n",
    "![Maine State Legislature](pics/mi_pdf.png)\n",
    "\n",
    "Based on the structure, we first get all urls for PDF files and use them to extract full texts from act html versions."
   ]
  },
  {
   "cell_type": "code",
   "execution_count": null,
   "metadata": {
    "collapsed": false,
    "pycharm": {
     "name": "#%%\n"
    }
   },
   "outputs": [],
   "source": [
    "# choose sessionyears\n",
    "input_sessionyears = ['2021-2022', '2019-2020', '2017-2018', '2015-2016', '2013-2014', '2011-2012', '2009-2010',\n",
    "                      '2007-2008', '2005-2006', '2003-2004', '2001-2002', '1999-2000', '1997-1998']\n",
    "\n",
    "urls = []\n",
    "\n",
    "for input_sessionyear in input_sessionyears:\n",
    "    driver.get(\"https://www.legislature.mi.gov/(S(uycj0anii1cfudf2mj0uyllp))/mileg.aspx?page=LegAdvancedSearch\")\n",
    "\n",
    "    select_public = driver.find_element_by_css_selector('#frg_legadvancedsearch_PublicActs')\n",
    "    select_public.click()\n",
    "\n",
    "    # select session year\n",
    "    select_sessionyear = Select(\n",
    "        driver.find_element_by_css_selector('#frg_legadvancedsearch_LegislativeSession_LegislativeSession'))\n",
    "    select_sessionyear.select_by_visible_text(input_sessionyear)\n",
    "\n",
    "    # search by keywords\n",
    "    #input_keywords = driver.find_element_by_css_selector('#frg_legadvancedsearch_LegFullText')\n",
    "    #input_keywords.send_keys(keyword)\n",
    "\n",
    "    # click search button\n",
    "    search_button = driver.find_element_by_css_selector('#frg_legadvancedsearch_SearchButton')\n",
    "    search_button.click()\n",
    "\n",
    "    WebDriverWait(driver, 300).until(\n",
    "        EC.presence_of_element_located(\n",
    "            (By.CSS_SELECTOR, \"#maincontent > table:nth-child(2) > tbody > tr:nth-child(1) > td > span\"))\n",
    "    )\n",
    "\n",
    "    try:\n",
    "        searchresult = driver.find_elements_by_css_selector(\n",
    "            'table#frg_executesearch_SearchResults_Results  tbody  tr td a')\n",
    "    except:\n",
    "        continue\n",
    "    sleep(3)\n",
    "\n",
    "    for i in range(len(searchresult)):\n",
    "        url = searchresult[i].get_attribute('href')\n",
    "        urls.append(url)\n",
    "\n",
    "print(\"done with urls\")\n",
    "\n",
    "acttxts = []\n",
    "\n",
    "for url in urls:\n",
    "    driver.get(url)\n",
    "    acttxt = driver.find_element_by_css_selector(\"body\").text\n",
    "    acttxts.append(acttxt)\n",
    "    sleep(randint(1,2))"
   ]
  },
  {
   "cell_type": "markdown",
   "metadata": {
    "collapsed": false,
    "pycharm": {
     "name": "#%% md\n"
    }
   },
   "source": [
    "## Text extraction and saving\n",
    "\n",
    "In this section, we used the below code to extract all full texts from PDF files and save all act full texts into several format files including excel, csv, pickle and json."
   ]
  },
  {
   "cell_type": "code",
   "execution_count": null,
   "metadata": {
    "collapsed": false,
    "pycharm": {
     "name": "#%%\n"
    }
   },
   "outputs": [],
   "source": [
    "datasource = pd.DataFrame({\n",
    "    'Full text': acttxts\n",
    "})\n",
    "\n",
    "datasource.drop_duplicates(subset = ['Full text'],\n",
    "                     keep = 'first', inplace = True, ignore_index= True)\n",
    "\n",
    "datasource.to_excel('ME_Leginfo.xlsx')\n",
    "datasource.to_csv('ME_Leginfo.csv')\n",
    "datasource.to_pickle('ME_Leginfo.pkl')\n",
    "datasource.to_json('ME_Leginfo.json')"
   ]
  }
 ],
 "metadata": {
  "kernelspec": {
   "display_name": "py39",
   "language": "python",
   "name": "python3"
  },
  "language_info": {
   "codemirror_mode": {
    "name": "ipython",
    "version": 3
   },
   "file_extension": ".py",
   "mimetype": "text/x-python",
   "name": "python",
   "nbconvert_exporter": "python",
   "pygments_lexer": "ipython3",
   "version": "3.9.12 (main, Jun  1 2022, 06:36:29) \n[Clang 12.0.0 ]"
  },
  "vscode": {
   "interpreter": {
    "hash": "72db359963b886546324fdab9aa5857888ab40de550209afc182f1efe35e5205"
   }
  }
 },
 "nbformat": 4,
 "nbformat_minor": 0
}