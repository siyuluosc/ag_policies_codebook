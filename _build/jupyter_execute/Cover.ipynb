{
 "cells": [
  {
   "cell_type": "markdown",
   "id": "6ffb0dad8fb3178a",
   "metadata": {},
   "source": [
    "# Codebook for State-Level Policies Affecting Agricultural Costs and Revenues in the U.S.: a comprehensive database (1975-2021), patterns, and analysis of policy correlates"
   ]
  },
  {
   "cell_type": "code",
   "execution_count": 1,
   "id": "fe5be5262f13e8d8",
   "metadata": {},
   "outputs": [
    {
     "name": "stdout",
     "output_type": "stream",
     "text": [
      "zsh:1: unknown file attribute: i\r\n"
     ]
    }
   ],
   "source": [
    "![](pics/booklogo.png)"
   ]
  }
 ],
 "metadata": {
  "kernelspec": {
   "display_name": "Python 3",
   "language": "python",
   "name": "python3"
  },
  "language_info": {
   "codemirror_mode": {
    "name": "ipython",
    "version": 3
   },
   "file_extension": ".py",
   "mimetype": "text/x-python",
   "name": "python",
   "nbconvert_exporter": "python",
   "pygments_lexer": "ipython3",
   "version": "3.11.4"
  }
 },
 "nbformat": 4,
 "nbformat_minor": 5
}