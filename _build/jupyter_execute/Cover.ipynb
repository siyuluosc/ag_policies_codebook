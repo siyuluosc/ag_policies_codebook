{
 "cells": [
  {
   "cell_type": "markdown",
   "id": "6ffb0dad8fb3178a",
   "metadata": {},
   "source": [
    "# Codebook for State-Level Policies Affecting Agricultural Costs and Revenues in the U.S.: a comprehensive database (1975-2021), patterns, and analysis of policy correlates"
   ]
  },
  {
   "cell_type": "code",
   "execution_count": null,
   "id": "fe5be5262f13e8d8",
   "metadata": {},
   "outputs": [],
   "source": [
    "![](pics/booklogo.png)"
   ]
  }
 ],
 "metadata": {
  "kernelspec": {
   "display_name": "Python 3",
   "language": "python",
   "name": "python3"
  },
  "language_info": {
   "codemirror_mode": {
    "name": "ipython",
    "version": 2
   },
   "file_extension": ".py",
   "mimetype": "text/x-python",
   "name": "python",
   "nbconvert_exporter": "python",
   "pygments_lexer": "ipython2",
   "version": "2.7.6"
  }
 },
 "nbformat": 4,
 "nbformat_minor": 5
}