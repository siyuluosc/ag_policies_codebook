{
 "cells": [
  {
   "cell_type": "markdown",
   "metadata": {
    "collapsed": false,
    "pycharm": {
     "name": "#%% md\n"
    }
   },
   "source": [
    "# Ch 44 South Dakota"
   ]
  },
  {
   "cell_type": "markdown",
   "metadata": {
    "collapsed": false,
    "pycharm": {
     "name": "#%% md\n"
    }
   },
   "source": [
    " [The South Dakota Legislature](https://sdlegislature.gov/Statutes/Archived) stores all session laws of South Dakota. On the website, there is a *Archived Sessions* section covering session laws.\n",
    "\n",
    "![SD Legislature](pics/sd_web.png)\n"
   ]
  },
  {
   "cell_type": "markdown",
   "metadata": {
    "collapsed": false,
    "pycharm": {
     "name": "#%% md\n"
    }
   },
   "source": [
    "## Import libraries\n",
    "As introduced in the chapter 1, we need to import some libraries as follows."
   ]
  },
  {
   "cell_type": "code",
   "execution_count": null,
   "metadata": {
    "collapsed": false,
    "pycharm": {
     "name": "#%%\n"
    }
   },
   "outputs": [],
   "source": [
    "import time\n",
    "from selenium import webdriver\n",
    "from selenium.webdriver.common.by import By\n",
    "from selenium.webdriver.support.ui import WebDriverWait\n",
    "from selenium.webdriver.support import expected_conditions as EC\n",
    "from selenium.webdriver.support.ui import Select\n",
    "from time import sleep\n",
    "import pandas as pd\n",
    "import datefinder\n",
    "import calendar\n",
    "import os\n",
    "import unittest\n",
    "from random import randint\n",
    "import PyPDF2\n",
    "import glob\n",
    "import pickle\n",
    "import numpy as np\n",
    "import fitz"
   ]
  },
  {
   "cell_type": "markdown",
   "metadata": {
    "collapsed": false,
    "pycharm": {
     "name": "#%% md\n"
    }
   },
   "source": [
    "## Browser setup\n",
    "\n",
    "Before scraping, we need to set up the browser. Here we use ChromeDriver for Google Chrome. You can download ChromeDriver from https://chromedriver.chromium.org/downloads following the version of Google Chrome you use on your laptop."
   ]
  },
  {
   "cell_type": "code",
   "execution_count": null,
   "metadata": {
    "collapsed": false,
    "pycharm": {
     "name": "#%%\n"
    }
   },
   "outputs": [],
   "source": [
    "driver_path = 'yourpath/driver'\n",
    "\n",
    "# Change the working directory to your path on your computer\n",
    "os.chdir('yourpath')\n",
    "\n",
    "# Get the working directory\n",
    "cwd = os.getcwd()\n",
    "# Print the current working directory\n",
    "print(\"Current working directory: {0}\".format(cwd))\n",
    "\n",
    "# Set up the driver\n",
    "chromeOptions = webdriver.ChromeOptions()\n",
    "dnldpath = {\"download.default_directory\": \"your_download_path\"}\n",
    "chromeOptions.add_experimental_option('prefs', {\n",
    "    \"download.default_directory\": dnldpath,  #Change default directory for downloads\n",
    "    \"download.prompt_for_download\": False,  #To auto download the file\n",
    "    \"download.directory_upgrade\": True,\n",
    "    \"plugins.always_open_pdf_externally\": True,  #It will not show PDF directly in chrome\n",
    "    \"--enable-javascript\": True\n",
    "})\n",
    "# Open the driver\n",
    "driver = webdriver.Chrome(executable_path=driver_path, options=chromeOptions)"
   ]
  },
  {
   "cell_type": "markdown",
   "metadata": {
    "collapsed": false,
    "pycharm": {
     "name": "#%% md\n"
    }
   },
   "outputs": [],
   "source": [
    "## Direct webscraping\n",
    "All session laws on the website are stored as the html file. We can webscrape all session laws directly. Here we adopt a strategy to get all urls for all session laws, and then visit the url to extract the full text.\n",
    "\n",
    "![SD Legislature](pics/sd_web.png)"
   ]
  },
  {
   "cell_type": "code",
   "execution_count": null,
   "metadata": {
    "collapsed": false,
    "pycharm": {
     "name": "#%%\n"
    }
   },
   "outputs": [],
   "source": [
    "urls=[]\n",
    "sessionurls = []\n",
    "driver.get(\"https://www.sdlegislature.gov/Session/Archived\")\n",
    "#sessions = driver.find_elements_by_link_text(\"Session Laws\")\n",
    "sessions = driver.find_elements_by_css_selector('tbody tr td:nth-child(7) a')\n",
    "\n",
    "for session in sessions:\n",
    "    sessionurl = session.get_attribute('href')\n",
    "    sessionurls.append(sessionurl)\n",
    "\n",
    "for sessionurl in sessionurls:\n",
    "    driver.get(sessionurl)\n",
    "    try:\n",
    "        list = driver.find_elements_by_css_selector(\"tbody tr td:nth-child(1) span a\")\n",
    "        for row in list:\n",
    "            url = row.get_attribute('href')\n",
    "            urls.append(url)\n",
    "    except:\n",
    "        print(sessionurl)\n",
    "print(\"urls are done\")\n",
    "\n",
    "acttxts = []\n",
    "for url in urls:\n",
    "    driver.get(url)\n",
    "    acttxt = driver.find_element_by_css_selector(\"body\").text\n",
    "    acttxts.append(acttxt)\n",
    "    sleep(1)"
   ]
  },
  {
   "cell_type": "markdown",
   "metadata": {
    "collapsed": false,
    "pycharm": {
     "name": "#%% md\n"
    }
   },
   "source": [
    "## Text extraction and saving\n",
    "\n",
    "In this section, we used the below code to extract all full texts from PDF files and save all act full texts into several format files including excel, csv, pickle and json."
   ]
  },
  {
   "cell_type": "code",
   "execution_count": null,
   "metadata": {
    "collapsed": false,
    "pycharm": {
     "name": "#%%\n"
    }
   },
   "outputs": [],
   "source": [
    "datasource = pd.DataFrame({\n",
    "    'Full text': acttxts\n",
    "})\n",
    "\n",
    "# save bill info into files\n",
    "datasource.to_excel('SD_Leginfo.xlsx')\n",
    "datasource.to_csv('SD_Leginfo.csv')\n",
    "datasource.to_pickle('SD_Leginfo.pkl')\n",
    "datasource.to_json('SD_Leginfo.json')"
   ]
  }
 ],
 "metadata": {
  "kernelspec": {
   "display_name": "py39",
   "language": "python",
   "name": "python3"
  },
  "language_info": {
   "codemirror_mode": {
    "name": "ipython",
    "version": 3
   },
   "file_extension": ".py",
   "mimetype": "text/x-python",
   "name": "python",
   "nbconvert_exporter": "python",
   "pygments_lexer": "ipython3",
   "version": "3.9.12 (main, Jun  1 2022, 06:36:29) \n[Clang 12.0.0 ]"
  },
  "vscode": {
   "interpreter": {
    "hash": "72db359963b886546324fdab9aa5857888ab40de550209afc182f1efe35e5205"
   }
  }
 },
 "nbformat": 4,
 "nbformat_minor": 0
}