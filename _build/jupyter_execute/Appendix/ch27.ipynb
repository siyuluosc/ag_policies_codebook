{
 "cells": [
  {
   "cell_type": "markdown",
   "metadata": {
    "collapsed": false,
    "pycharm": {
     "name": "#%% md\n"
    }
   },
   "source": [
    "# Ch 27 Mississippi"
   ]
  },
  {
   "cell_type": "markdown",
   "metadata": {
    "collapsed": false,
    "pycharm": {
     "name": "#%% md\n"
    }
   },
   "source": [
    " [Mississippi Legislature](http://www.legislature.ms.gov/) stores all public acts in Mississippi since 1997. As shown below, Mississippi Legislature has a Mississippi Legislative Bill Status System web page shown as below. We can extract all session law information through this web page.\n",
    "\n",
    "![Mississippi Legislature](pics/ms_web.png)"
   ]
  },
  {
   "cell_type": "markdown",
   "metadata": {
    "collapsed": false,
    "pycharm": {
     "name": "#%% md\n"
    }
   },
   "source": [
    "## Import libraries\n",
    "As introduced in the chapter 1, we need to import some libraries as follows."
   ]
  },
  {
   "cell_type": "code",
   "execution_count": 1,
   "metadata": {
    "collapsed": false,
    "pycharm": {
     "name": "#%%\n"
    }
   },
   "outputs": [
    {
     "ename": "ModuleNotFoundError",
     "evalue": "No module named 'selenium'",
     "output_type": "error",
     "traceback": [
      "\u001b[0;31m---------------------------------------------------------------------------\u001b[0m",
      "\u001b[0;31mModuleNotFoundError\u001b[0m                       Traceback (most recent call last)",
      "Cell \u001b[0;32mIn[1], line 2\u001b[0m\n\u001b[1;32m      1\u001b[0m \u001b[38;5;28;01mimport\u001b[39;00m \u001b[38;5;21;01mtime\u001b[39;00m\n\u001b[0;32m----> 2\u001b[0m \u001b[38;5;28;01mfrom\u001b[39;00m \u001b[38;5;21;01mselenium\u001b[39;00m \u001b[38;5;28;01mimport\u001b[39;00m webdriver\n\u001b[1;32m      3\u001b[0m \u001b[38;5;28;01mfrom\u001b[39;00m \u001b[38;5;21;01mselenium\u001b[39;00m\u001b[38;5;21;01m.\u001b[39;00m\u001b[38;5;21;01mwebdriver\u001b[39;00m\u001b[38;5;21;01m.\u001b[39;00m\u001b[38;5;21;01mcommon\u001b[39;00m\u001b[38;5;21;01m.\u001b[39;00m\u001b[38;5;21;01mby\u001b[39;00m \u001b[38;5;28;01mimport\u001b[39;00m By\n\u001b[1;32m      4\u001b[0m \u001b[38;5;28;01mfrom\u001b[39;00m \u001b[38;5;21;01mselenium\u001b[39;00m\u001b[38;5;21;01m.\u001b[39;00m\u001b[38;5;21;01mwebdriver\u001b[39;00m\u001b[38;5;21;01m.\u001b[39;00m\u001b[38;5;21;01msupport\u001b[39;00m\u001b[38;5;21;01m.\u001b[39;00m\u001b[38;5;21;01mui\u001b[39;00m \u001b[38;5;28;01mimport\u001b[39;00m WebDriverWait\n",
      "\u001b[0;31mModuleNotFoundError\u001b[0m: No module named 'selenium'"
     ]
    }
   ],
   "source": [
    "import time\n",
    "from selenium import webdriver\n",
    "from selenium.webdriver.common.by import By\n",
    "from selenium.webdriver.support.ui import WebDriverWait\n",
    "from selenium.webdriver.support import expected_conditions as EC\n",
    "from selenium.webdriver.support.ui import Select\n",
    "from time import sleep\n",
    "import pandas as pd\n",
    "import datefinder\n",
    "import calendar\n",
    "import os\n",
    "import unittest\n",
    "from random import randint\n",
    "import PyPDF2\n",
    "import glob\n",
    "import pickle\n",
    "import numpy as np\n",
    "import fitz"
   ]
  },
  {
   "cell_type": "markdown",
   "metadata": {
    "collapsed": false,
    "pycharm": {
     "name": "#%% md\n"
    }
   },
   "source": [
    "## Browser setup\n",
    "\n",
    "Before scraping, we need to set up the browser. Here we use ChromeDriver for Google Chrome. You can download ChromeDriver from https://chromedriver.chromium.org/downloads following the version of Google Chrome you use on your laptop."
   ]
  },
  {
   "cell_type": "code",
   "execution_count": null,
   "metadata": {
    "collapsed": false,
    "pycharm": {
     "name": "#%%\n"
    }
   },
   "outputs": [],
   "source": [
    "driver_path = 'yourpath/driver'\n",
    "\n",
    "# Change the working directory to your path on your computer\n",
    "os.chdir('yourpath')\n",
    "\n",
    "# Get the working directory\n",
    "cwd = os.getcwd()\n",
    "# Print the current working directory\n",
    "print(\"Current working directory: {0}\".format(cwd))\n",
    "\n",
    "# Set up the driver\n",
    "chromeOptions = webdriver.ChromeOptions()\n",
    "dnldpath = {\"download.default_directory\": \"your_download_path\"}\n",
    "chromeOptions.add_experimental_option('prefs', {\n",
    "    \"download.default_directory\": dnldpath,  #Change default directory for downloads\n",
    "    \"download.prompt_for_download\": False,  #To auto download the file\n",
    "    \"download.directory_upgrade\": True,\n",
    "    \"plugins.always_open_pdf_externally\": True,  #It will not show PDF directly in chrome\n",
    "    \"--enable-javascript\": True\n",
    "})\n",
    "# Open the driver\n",
    "driver = webdriver.Chrome(executable_path=driver_path, options=chromeOptions)"
   ]
  },
  {
   "cell_type": "markdown",
   "metadata": {
    "collapsed": false,
    "pycharm": {
     "name": "#%% md\n"
    }
   },
   "outputs": [],
   "source": [
    "## Extracting Acts from Html and PDF files\n",
    "Through Mississippi Legislative Bill Status System web page shown above, choosing one legislative session, we can see the results within one session. There are two types of results. One type is only with a list of all measures in 1997 and 1998. For this type, we need to tell which act or measure here in Mississippi Legislature is approved. Clicking approved act, the full text is stored as a html file. We can extract full text![Mississippi Legislative Bill Status System](pics/ms_list.png)\n",
    "\n",
    "Another type is with a list of all measures (not dead).All we need is under *All Measures (Not Dead)*. ![Mississippi Legislative Bill Status System](pics/ms_session.png) Clicking [*All Measures (Not Dead)](http://billstatus.ls.state.ms.us/2022/pdf/mainmenu.htm), the report of All Measures (Not Dead) are shown up. There are acts one by one which are stored as PDF files."
   ]
  },
  {
   "cell_type": "code",
   "execution_count": null,
   "metadata": {
    "collapsed": false,
    "pycharm": {
     "name": "#%%\n"
    }
   },
   "outputs": [],
   "source": [
    "#Mississippi Legislature 1998 Regular Session\n",
    "\n",
    "driver.get(\"http://billstatus.ls.state.ms.us/1998/all_measures/allmsrs.htm\")\n",
    "\n",
    "acts = driver.find_elements_by_partial_link_text(\"Approved\")\n",
    "for act in acts:\n",
    "    url = act.get_attribute('href')\n",
    "    urls.append(url)\n",
    "\n",
    "#Mississippi Legislature 1999- Regular Session\n",
    "for year in range(1999, 2008):\n",
    "    session_url = \"http://billstatus.ls.state.ms.us/\" + str(year) + \"/pdf/all_measures/notdead.htm\"\n",
    "    print(session_url)\n",
    "    driver.get(session_url)\n",
    "    acts = driver.find_elements_by_partial_link_text(\"Approved\")\n",
    "    for act in acts:\n",
    "        url = act.get_attribute('href')\n",
    "        urls.append(url)\n",
    "    for e in [\"1e\", \"2e\", \"3e\", \"4e\"]:\n",
    "        session_url = \"http://billstatus.ls.state.ms.us/\" + str(year) + e + \"/pdf/all_measures/notdead.htm\"\n",
    "        print(session_url)\n",
    "        driver.get(session_url)\n",
    "        try:\n",
    "            acts = driver.find_elements_by_partial_link_text(\"Approved\")\n",
    "            for act in acts:\n",
    "                url = act.get_attribute('href')\n",
    "                urls.append(url)\n",
    "        except:\n",
    "            print(\"No this session\")\n",
    "#Mississippi Legislature 1999- Regular Session\n",
    "\n",
    "urls2 = []\n",
    "for year in range(2009, 2023):\n",
    "    session_url = \"http://billstatus.ls.state.ms.us/\" + str(year) + \"/pdf/all_measures/notdead.xml\"\n",
    "    print(session_url)\n",
    "    driver.get(session_url)\n",
    "    acts = driver.find_elements_by_partial_link_text(\"Approved\")\n",
    "    for act in acts:\n",
    "        url = act.get_attribute('href')\n",
    "        urls2.append(url)\n",
    "    for e in [\"1e\", \"2e\", \"3e\", \"4e\"]:\n",
    "        session_url = \"http://billstatus.ls.state.ms.us/\" + str(year) + e + \"/pdf/all_measures/notdead.xml\"\n",
    "        print(session_url)\n",
    "        driver.get(session_url)\n",
    "        try:\n",
    "            acts = driver.find_elements_by_partial_link_text(\"Approved\")\n",
    "            for act in acts:\n",
    "                url = act.get_attribute('href')\n",
    "                urls2.append(url)\n",
    "        except:\n",
    "            print(\"No this session\")\n",
    "\n",
    "acttxts = []\n",
    "\n",
    "for i, url in enumerate(urls):\n",
    "    try:\n",
    "        driver.get(url)\n",
    "        print(i)\n",
    "        WebDriverWait(driver, 300).until(\n",
    "            EC.presence_of_element_located((By.CSS_SELECTOR, \"body\"))\n",
    "        )\n",
    "        acturl = driver.find_element_by_partial_link_text(\"Sent to Governor\").get_attribute('href')\n",
    "        print(acturl)\n",
    "        try:\n",
    "            driver.get(acturl)\n",
    "            if \"pdf\" in acturl:\n",
    "                print(\"pdf\")\n",
    "            else:\n",
    "                acttxt = driver.find_element_by_css_selector(\"html\").text\n",
    "                acttxts.append(acttxt)\n",
    "        except:\n",
    "            print(\"check\")\n",
    "    except:\n",
    "        print(\"check\")\n",
    "\n",
    "for i, url in enumerate(urls2):\n",
    "    try:\n",
    "        driver.get(url)\n",
    "        print(i)\n",
    "        WebDriverWait(driver, 300).until(\n",
    "            EC.presence_of_element_located((By.CSS_SELECTOR, \"body\"))\n",
    "        )\n",
    "        acturl = driver.find_element_by_partial_link_text(\"Sent to Governor\").get_attribute('href')\n",
    "        print(acturl)\n",
    "        try:\n",
    "            driver.get(acturl)\n",
    "            if \"pdf\" in acturl:\n",
    "                print(\"pdf\")\n",
    "            else:\n",
    "                acttxt = driver.find_element_by_css_selector(\"html\").text\n",
    "                acttxts.append(acttxt)\n",
    "        except:\n",
    "            print(\"check\")\n",
    "    except:\n",
    "        print(\"check\")"
   ]
  },
  {
   "cell_type": "markdown",
   "metadata": {
    "collapsed": false,
    "pycharm": {
     "name": "#%% md\n"
    }
   },
   "source": [
    "## Text extraction and output\n",
    "\n",
    "In this section, we used the below code to extract all full texts from PDF files and save all act full texts into several format files including excel, csv, pickle and json."
   ]
  },
  {
   "cell_type": "code",
   "execution_count": null,
   "metadata": {
    "collapsed": false,
    "pycharm": {
     "name": "#%%\n"
    }
   },
   "outputs": [],
   "source": [
    "path = \"your_download_path\"\n",
    "files = glob.glob(os.path.join(path, '*.pdf'))\n",
    "\n",
    "acttxts = []\n",
    "pgtxts = []\n",
    "badfiles = []\n",
    "for file in files:\n",
    "    try:\n",
    "        doc = fitz.open(file)\n",
    "        pgtxts = []\n",
    "        for page in doc:\n",
    "            pgtxt = page.get_text()\n",
    "            pgtxts.append(pgtxt)\n",
    "            acttxt = ' '.join(pgtxts)\n",
    "        acttxts.append(acttxt)\n",
    "        doc.close()\n",
    "    except:\n",
    "        print(file)\n",
    "        badfiles.append(file)\n",
    "\n",
    "datasource = pd.DataFrame({\n",
    "    'Full text': acttxts\n",
    "})\n",
    "\n",
    "datasource.to_excel('MS_Leginfo.xlsx')\n",
    "datasource.to_csv('MS_Leginfo.csv')\n",
    "datasource.to_pickle('MS_Leginfo.pkl')\n",
    "datasource.to_json('MS_Leginfo.json')"
   ]
  }
 ],
 "metadata": {
  "kernelspec": {
   "display_name": "py39",
   "language": "python",
   "name": "python3"
  },
  "language_info": {
   "codemirror_mode": {
    "name": "ipython",
    "version": 3
   },
   "file_extension": ".py",
   "mimetype": "text/x-python",
   "name": "python",
   "nbconvert_exporter": "python",
   "pygments_lexer": "ipython3",
   "version": "3.12.4"
  },
  "vscode": {
   "interpreter": {
    "hash": "72db359963b886546324fdab9aa5857888ab40de550209afc182f1efe35e5205"
   }
  }
 },
 "nbformat": 4,
 "nbformat_minor": 0
}