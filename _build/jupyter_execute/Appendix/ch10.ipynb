{
 "cells": [
  {
   "cell_type": "markdown",
   "metadata": {
    "collapsed": false,
    "id": "XHSGZsx9JE7e",
    "pycharm": {
     "name": "#%% md\n"
    }
   },
   "source": [
    "# Ch 10 Delaware"
   ]
  },
  {
   "cell_type": "markdown",
   "metadata": {
    "id": "qjgXZgo1JKUW"
   },
   "source": [
    "The Delaware State Legislature store all acts passed in Delaware. The web address is https://legis.delaware.gov/SessionLaws. "
   ]
  },
  {
   "cell_type": "code",
   "execution_count": 1,
   "metadata": {
    "id": "iSbBM1nMJE7g",
    "pycharm": {
     "name": "#%%\n"
    }
   },
   "outputs": [
    {
     "ename": "FileNotFoundError",
     "evalue": "[Errno 2] No such file or directory: '/Users/siyu/Library/Mobile Documents/com~apple~CloudDocs/Projects/AFRI/Delaware'",
     "output_type": "error",
     "traceback": [
      "\u001b[0;31m---------------------------------------------------------------------------\u001b[0m",
      "\u001b[0;31mFileNotFoundError\u001b[0m                         Traceback (most recent call last)",
      "Cell \u001b[0;32mIn[1], line 24\u001b[0m\n\u001b[1;32m     20\u001b[0m driver_path \u001b[38;5;241m=\u001b[39m \u001b[38;5;124m'\u001b[39m\u001b[38;5;124m/Users/siyu/Library/Mobile Documents/com~apple~CloudDocs/Projects/AFRI/chromedriver\u001b[39m\u001b[38;5;124m'\u001b[39m\n\u001b[1;32m     21\u001b[0m \u001b[38;5;66;03m#driver = webdriver.Chrome(executable_path=DRIVER_PATH)\u001b[39;00m\n\u001b[1;32m     22\u001b[0m \n\u001b[1;32m     23\u001b[0m \u001b[38;5;66;03m# Change the working directory\u001b[39;00m\n\u001b[0;32m---> 24\u001b[0m \u001b[43mos\u001b[49m\u001b[38;5;241;43m.\u001b[39;49m\u001b[43mchdir\u001b[49m\u001b[43m(\u001b[49m\u001b[38;5;124;43m'\u001b[39;49m\u001b[38;5;124;43m/Users/siyu/Library/Mobile Documents/com~apple~CloudDocs/Projects/AFRI/Delaware\u001b[39;49m\u001b[38;5;124;43m'\u001b[39;49m\u001b[43m)\u001b[49m\n\u001b[1;32m     25\u001b[0m \u001b[38;5;66;03m# os.chdir('/Users/siyu/Desktop/AFRI web scraping')\u001b[39;00m\n\u001b[1;32m     26\u001b[0m \u001b[38;5;66;03m# Get the current working directory\u001b[39;00m\n\u001b[1;32m     27\u001b[0m cwd \u001b[38;5;241m=\u001b[39m os\u001b[38;5;241m.\u001b[39mgetcwd()\n",
      "\u001b[0;31mFileNotFoundError\u001b[0m: [Errno 2] No such file or directory: '/Users/siyu/Library/Mobile Documents/com~apple~CloudDocs/Projects/AFRI/Delaware'"
     ]
    }
   ],
   "source": [
    "#  import libraries\n",
    "from selenium import webdriver\n",
    "from selenium.webdriver.common.by import By\n",
    "from selenium.webdriver.support.ui import WebDriverWait\n",
    "from selenium.webdriver.support import expected_conditions as EC\n",
    "from selenium.webdriver.support.ui import Select\n",
    "from time import sleep\n",
    "import pandas as pd\n",
    "import datefinder\n",
    "import calendar\n",
    "import os\n",
    "import unittest\n",
    "from random import randint\n",
    "import PyPDF2\n",
    "import glob\n",
    "import time\n",
    "import pickle\n",
    "import numpy as np\n",
    "\n",
    "driver_path = '/Users/siyu/Library/Mobile Documents/com~apple~CloudDocs/Projects/AFRI/chromedriver'\n",
    "#driver = webdriver.Chrome(executable_path=DRIVER_PATH)\n",
    "\n",
    "# Change the working directory\n",
    "os.chdir('/Users/siyu/Library/Mobile Documents/com~apple~CloudDocs/Projects/AFRI/Delaware')\n",
    "# os.chdir('/Users/siyu/Desktop/AFRI web scraping')\n",
    "# Get the current working directory\n",
    "cwd = os.getcwd()\n",
    "# Print the current working directory\n",
    "print(\"Current working directory: {0}\".format(cwd))\n",
    "\n",
    "chromeOptions = webdriver.ChromeOptions()\n",
    "dnldpath = {\"download.default_directory\" : \"/Users/siyu/Library/Mobile Documents/com~apple~CloudDocs/Projects/AFRI/Delaware\"}\n",
    "chromeOptions.add_experimental_option('prefs', {\n",
    "\"download.default_directory\": dnldpath, #Change default directory for downloads\n",
    "\"download.prompt_for_download\": False, #To auto download the file\n",
    "\"download.directory_upgrade\": True,\n",
    "\"plugins.always_open_pdf_externally\": True, #It will not show PDF directly in chrome\n",
    "\"--enable-javascript\":True\n",
    "})\n",
    "driver = webdriver.Chrome(executable_path=driver_path, options=chromeOptions)\n",
    "\n",
    "# for all sessions:\n",
    "####driver.get(\"https://legis.delaware.gov/SessionLaws/\")\n",
    "\n",
    "# test 2021-22\n",
    "#driver.get(\"https://legis.delaware.gov/SessionLaws/Chapters?volume=48\")\n",
    "\n",
    "sessionurls = []\n",
    "acts = []\n",
    "urls = []\n",
    "\n",
    "acttxts = []\n",
    "\n",
    "# year 1975-2022 (128th-151st General Assembly), links end with 36-47, 1, 2, 5, 6, 8-10, 12-15, 48\n",
    "for year in range (36,48): # change the years\n",
    "    print(year)\n",
    "    sessionurl = \"https://legis.delaware.gov/SessionLaws/Chapters?volume=\" + str(year)\n",
    "    print(sessionurl)\n",
    "    driver.get(sessionurl)\n",
    "    acts = driver.find_elements_by_css_selector(\"#ContentPlaceholder_T3A13E1F0003_Col00 > div > div > ol > li > p:nth-child(1) > a\")\n",
    "\n",
    "\n",
    "    for act in acts:\n",
    "        url = act.get_attribute(\"href\")\n",
    "        try:\n",
    "            url = act.get_attribute(\"href\")\n",
    "            urls.append(url)\n",
    "        # if not working, print the undone acts\n",
    "        except:\n",
    "            print(act)\n",
    "\n",
    "for url in urls:\n",
    "    driver.get(url)\n",
    "    # mimic human working behavior to avoid crash\n",
    "    t = randint(1,10)*0.001\n",
    "    time.sleep(t)\n",
    "    WebDriverWait(driver, 60).until(\n",
    "        EC.presence_of_element_located((By.CSS_SELECTOR, \"body\"))\n",
    "    )\n",
    "    acttxt = driver.find_element_by_css_selector('body').text\n",
    "    print(driver.find_element_by_css_selector('body').text)\n",
    "    acttxts.append(acttxt)\n",
    "\n",
    "\n",
    "# for all session:\n",
    "#sessionlist = driver.find_elements_by_css_selector('table.k-grid.k-widget.table a')\n",
    "#for session in sessonlist:\n",
    "#    session.click()\n",
    "#    sleep(1)\n",
    "\n",
    "\n",
    "datasource = pd.DataFrame({\n",
    "    'Full text': acttxts\n",
    "})\n",
    "\n",
    "# save bill info into files\n",
    "datasource.to_excel('DE_Leginfo.xlsx')\n",
    "datasource.to_csv('DE_Leginfo.csv')\n",
    "datasource.to_pickle('DE_Leginfo.pkl')\n",
    "datasource.to_json('DE_Leginfo.json')\n"
   ]
  }
 ],
 "metadata": {
  "colab": {
   "provenance": []
  },
  "kernelspec": {
   "display_name": "Python 3",
   "language": "python",
   "name": "python3"
  },
  "language_info": {
   "codemirror_mode": {
    "name": "ipython",
    "version": 3
   },
   "file_extension": ".py",
   "mimetype": "text/x-python",
   "name": "python",
   "nbconvert_exporter": "python",
   "pygments_lexer": "ipython3",
   "version": "3.11.4"
  }
 },
 "nbformat": 4,
 "nbformat_minor": 0
}