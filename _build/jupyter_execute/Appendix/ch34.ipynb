{
 "cells": [
  {
   "cell_type": "markdown",
   "metadata": {
    "collapsed": false,
    "id": "doO9kmOLMNID",
    "pycharm": {
     "name": "#%% md\n"
    }
   },
   "source": [
    "# Ch 34 New Mexico"
   ]
  },
  {
   "cell_type": "markdown",
   "metadata": {
    "id": "XDE9-bc7MOQw"
   },
   "source": [
    "The New Mexico State Legislature store all acts passed in the State. The web address is https://www.nmlegis.gov/Legislation/Legislation_List. "
   ]
  },
  {
   "cell_type": "markdown",
   "metadata": {
    "id": "Oi3-OSBqM0rV"
   },
   "source": [
    "There are three types of law sessions including regular session, special 1 session and special 2 session. All enrolled bills are named by \"HB\" and \"SB\" plus bill number. They are stored as pdf files on New Mexico Secretary of State website. "
   ]
  },
  {
   "cell_type": "code",
   "execution_count": 1,
   "metadata": {
    "id": "rg-ATHYsMdUH"
   },
   "outputs": [
    {
     "ename": "SyntaxError",
     "evalue": "invalid decimal literal (246341380.py, line 50)",
     "output_type": "error",
     "traceback": [
      "\u001b[0;36m  Cell \u001b[0;32mIn[1], line 50\u001b[0;36m\u001b[0m\n\u001b[0;31m    (Reg) https://www.nmlegis.gov/Sessions/21%20Regular/final/\u001b[0m\n\u001b[0m                                               ^\u001b[0m\n\u001b[0;31mSyntaxError\u001b[0m\u001b[0;31m:\u001b[0m invalid decimal literal\n"
     ]
    }
   ],
   "source": [
    "#  import libraries\n",
    "from selenium import webdriver\n",
    "from selenium.webdriver.common.by import By\n",
    "from selenium.webdriver.support.ui import WebDriverWait\n",
    "from selenium.webdriver.support import expected_conditions as EC\n",
    "from selenium.webdriver.support.ui import Select\n",
    "from time import sleep\n",
    "import pandas as pd\n",
    "import datefinder\n",
    "import calendar\n",
    "import os\n",
    "import unittest\n",
    "from random import randint\n",
    "import PyPDF2\n",
    "import glob\n",
    "import time\n",
    "import json\n",
    "import re\n",
    "import fitz\n",
    "import requests\n",
    "from bs4 import BeautifulSoup\n",
    "from requests_html import HTMLSession\n",
    "\n",
    "s = HTMLSession()\n",
    "\n",
    "driver_path = '/Users/siyu/Library/Mobile Documents/com~apple~CloudDocs/Projects/AFRI/chromedriver'\n",
    "#driver = webdriver.Chrome(executable_path=DRIVER_PATH)\n",
    "\n",
    "# Change the working directory\n",
    "os.chdir('/Users/siyu/Library/Mobile Documents/com~apple~CloudDocs/Projects/AFRI')\n",
    "# os.chdir('/Users/siyu/Desktop/AFRI web scraping')\n",
    "# Get the current working directory\n",
    "cwd = os.getcwd()\n",
    "# Print the current working directory\n",
    "print(\"Current working directory: {0}\".format(cwd))\n",
    "\n",
    "chromeOptions = webdriver.ChromeOptions()\n",
    "chromeOptions.add_experimental_option('prefs', {\n",
    "\"download.default_directory\": '/Users/siyu/Library/Mobile Documents/com~apple~CloudDocs/Projects/AFRI', #Change default directory for downloads\n",
    "\"download.prompt_for_download\": False, #To auto download the file\n",
    "\"download.directory_upgrade\": True,\n",
    "\"plugins.always_open_pdf_externally\": True #It will not show PDF directly in chrome\n",
    "})\n",
    "\n",
    "driver = webdriver.Chrome(executable_path=driver_path, options=chromeOptions)\n",
    "\n",
    "#%%\n",
    "# 2021 (check both .PDF and .pdf), then repeat for each year:\n",
    "    # final versions (need to delete non-HB/SB):\n",
    "(Reg) https://www.nmlegis.gov/Sessions/21%20Regular/final/\n",
    "(Spe) https://www.nmlegis.gov/Sessions/21%20Special/final/\n",
    "(Spe(2)) https://www.nmlegis.gov/Sessions/21%20Special2/final/\n",
    "    # introduced (find 1.PDF & 2.PDF, svote/hvote/JUV/JUVV/CTV//COV/PAV/EDV/V.pdf, delete redundant files):\n",
    "(Int(1)) https://www.nmlegis.gov/Sessions/21%20Regular/bills/house/\n",
    "(Int(2)) https://www.nmlegis.gov/Sessions/21%20Regular/bills/senate/\n",
    "\n",
    "    # add on (some years have these):\n",
    "(Spe(3)) driver.get(\"https://www.nmlegis.gov/Sessions/17%20Special/bills/house/\")\n",
    "(Spe(4)) driver.get(\"https://www.nmlegis.gov/Sessions/17%20Special/bills/senate/\")\n",
    "\n",
    "\n",
    "act_urls = []\n",
    "checklist = []\n",
    "acts = []\n",
    "acttxts = []\n",
    "\n",
    "driver.get(\"https://www.nmlegis.gov/Sessions/12%20Regular/Final/\")\n",
    "driver.get(\"https://www.nmlegis.gov/Sessions/96%20Special/finalversions/\")\n",
    "driver.get(\"https://www.nmlegis.gov/Sessions/96%20Special2/final/\")\n",
    "driver.get(\"https://www.nmlegis.gov/Sessions/96%20Regular/bills/house/\")\n",
    "driver.get(\"https://www.nmlegis.gov/Sessions/96%20Regular/bills/senate/\")\n",
    "\n",
    "driver.get(\"https://www.nmlegis.gov/Sessions/96%20Special/bills/house/\")\n",
    "driver.get(\"https://www.nmlegis.gov/Sessions/96%20Special/bills/senate/\")\n",
    "\n",
    "#############################\n",
    "# (Ext(1)(2)) for Extrodinary (eg. 2002):\n",
    "driver.get(\"https://www.nmlegis.gov/Sessions/02%20Extraordinary/bills/house/\")\n",
    "driver.get(\"https://www.nmlegis.gov/Sessions/02%20Extraordinary/bills/senate/\")\n",
    "\n",
    "\n",
    "acts = driver.find_elements_by_partial_link_text(\".PDF\")\n",
    "acts = driver.find_elements_by_partial_link_text(\".pdf\")\n",
    "\n",
    "\n",
    "for act in acts:\n",
    "    act.click()\n",
    "\n",
    "#%%\n",
    "\n",
    "badfiles = []\n",
    "path = \"/Users/siyu/Library/Mobile Documents/com~apple~CloudDocs/Projects/AFRI/midstop\"\n",
    "files = glob.glob(os.path.join(path,'*.pdf'))\n",
    "for file in files:\n",
    "    try:\n",
    "        doc = fitz.open(file)\n",
    "        pgtxts = []\n",
    "        for page in doc:\n",
    "            pgtxt = page.get_text()\n",
    "            pgtxts.append(pgtxt)\n",
    "            acttxts.append(acttxt)\n",
    "            doc.close()\n",
    "    except:\n",
    "        print(file)\n",
    "        badfiles.append(file)\n",
    "\n",
    "\n",
    "# for 2022 sessions, all pdf downloaded\n",
    "acttxts = []\n",
    "path = \"/Users/siyu/Library/Mobile Documents/com~apple~CloudDocs/Projects/AFRI/midstop\"\n",
    "files = glob.glob(os.path.join(path, '*.pdf'))\n",
    "for file in files:\n",
    "    doc = fitz.open(file)\n",
    "    pgtxts = []\n",
    "    for page in doc:\n",
    "        pgtxt = page.get_text()\n",
    "        pgtxts.append(pgtxt)\n",
    "        acttxt = ' '.join(pgtxts)\n",
    "    acttxts.append(acttxt)\n",
    "    doc.close()\n",
    "#%%\n",
    "\n",
    "datasource = pd.DataFrame({\n",
    "    'Full text': acttxts\n",
    "})\n",
    "\n",
    "# save bill info into files\n",
    "datasource.to_excel('NM_Leginfo.xlsx')\n",
    "datasource.to_csv('NM_Leginfo.csv')\n",
    "datasource.to_pickle('NM_Leginfo.pkl')\n",
    "datasource.to_json('NM_Leginfo.json')"
   ]
  }
 ],
 "metadata": {
  "colab": {
   "provenance": []
  },
  "kernelspec": {
   "display_name": "Python 3",
   "language": "python",
   "name": "python3"
  },
  "language_info": {
   "codemirror_mode": {
    "name": "ipython",
    "version": 3
   },
   "file_extension": ".py",
   "mimetype": "text/x-python",
   "name": "python",
   "nbconvert_exporter": "python",
   "pygments_lexer": "ipython3",
   "version": "3.11.4"
  }
 },
 "nbformat": 4,
 "nbformat_minor": 0
}