{
 "cells": [
  {
   "cell_type": "markdown",
   "metadata": {
    "collapsed": false,
    "pycharm": {
     "name": "#%% md\n"
    }
   },
   "source": [
    "# Ch 48 Vermont"
   ]
  },
  {
   "cell_type": "markdown",
   "metadata": {
    "collapsed": false,
    "pycharm": {
     "name": "#%% md\n"
    }
   },
   "source": [
    " [The General Court of New Hampshire](http://www.gencourt.state.nh.us/bill_status/legacy/bs2016/) stores all acts in New Hampshire. Through *Advanced Bill Status Search*, we can get all session laws including \"signed by the governor\" and \"law without signature\"\n",
    "\n",
    "![General Court of New Hampshire](pics/nh_web.png)\n"
   ]
  },
  {
   "cell_type": "markdown",
   "metadata": {
    "collapsed": false,
    "pycharm": {
     "name": "#%% md\n"
    }
   },
   "source": [
    "## Import libraries\n",
    "As introduced in the chapter 1, we need to import some libraries as follows."
   ]
  },
  {
   "cell_type": "code",
   "execution_count": 1,
   "metadata": {
    "collapsed": false,
    "pycharm": {
     "name": "#%%\n"
    }
   },
   "outputs": [
    {
     "ename": "ModuleNotFoundError",
     "evalue": "No module named 'selenium'",
     "output_type": "error",
     "traceback": [
      "\u001b[0;31m---------------------------------------------------------------------------\u001b[0m",
      "\u001b[0;31mModuleNotFoundError\u001b[0m                       Traceback (most recent call last)",
      "Cell \u001b[0;32mIn[1], line 2\u001b[0m\n\u001b[1;32m      1\u001b[0m \u001b[38;5;28;01mimport\u001b[39;00m \u001b[38;5;21;01mtime\u001b[39;00m\n\u001b[0;32m----> 2\u001b[0m \u001b[38;5;28;01mfrom\u001b[39;00m \u001b[38;5;21;01mselenium\u001b[39;00m \u001b[38;5;28;01mimport\u001b[39;00m webdriver\n\u001b[1;32m      3\u001b[0m \u001b[38;5;28;01mfrom\u001b[39;00m \u001b[38;5;21;01mselenium\u001b[39;00m\u001b[38;5;21;01m.\u001b[39;00m\u001b[38;5;21;01mwebdriver\u001b[39;00m\u001b[38;5;21;01m.\u001b[39;00m\u001b[38;5;21;01mcommon\u001b[39;00m\u001b[38;5;21;01m.\u001b[39;00m\u001b[38;5;21;01mby\u001b[39;00m \u001b[38;5;28;01mimport\u001b[39;00m By\n\u001b[1;32m      4\u001b[0m \u001b[38;5;28;01mfrom\u001b[39;00m \u001b[38;5;21;01mselenium\u001b[39;00m\u001b[38;5;21;01m.\u001b[39;00m\u001b[38;5;21;01mwebdriver\u001b[39;00m\u001b[38;5;21;01m.\u001b[39;00m\u001b[38;5;21;01msupport\u001b[39;00m\u001b[38;5;21;01m.\u001b[39;00m\u001b[38;5;21;01mui\u001b[39;00m \u001b[38;5;28;01mimport\u001b[39;00m WebDriverWait\n",
      "\u001b[0;31mModuleNotFoundError\u001b[0m: No module named 'selenium'"
     ]
    }
   ],
   "source": [
    "import time\n",
    "from selenium import webdriver\n",
    "from selenium.webdriver.common.by import By\n",
    "from selenium.webdriver.support.ui import WebDriverWait\n",
    "from selenium.webdriver.support import expected_conditions as EC\n",
    "from selenium.webdriver.support.ui import Select\n",
    "from time import sleep\n",
    "import pandas as pd\n",
    "import datefinder\n",
    "import calendar\n",
    "import os\n",
    "import unittest\n",
    "from random import randint\n",
    "import PyPDF2\n",
    "import glob\n",
    "import pickle\n",
    "import numpy as np\n",
    "import fitz"
   ]
  },
  {
   "cell_type": "markdown",
   "metadata": {
    "collapsed": false,
    "pycharm": {
     "name": "#%% md\n"
    }
   },
   "source": [
    "## Browser setup\n",
    "\n",
    "Before scraping, we need to set up the browser. Here we use ChromeDriver for Google Chrome. You can download ChromeDriver from https://chromedriver.chromium.org/downloads following the version of Google Chrome you use on your laptop."
   ]
  },
  {
   "cell_type": "code",
   "execution_count": null,
   "metadata": {
    "collapsed": false,
    "pycharm": {
     "name": "#%%\n"
    }
   },
   "outputs": [],
   "source": [
    "driver_path = 'yourpath/driver'\n",
    "\n",
    "# Change the working directory to your path on your computer\n",
    "os.chdir('yourpath')\n",
    "\n",
    "# Get the working directory\n",
    "cwd = os.getcwd()\n",
    "# Print the current working directory\n",
    "print(\"Current working directory: {0}\".format(cwd))\n",
    "\n",
    "# Set up the driver\n",
    "chromeOptions = webdriver.ChromeOptions()\n",
    "dnldpath = {\"download.default_directory\": \"your_download_path\"}\n",
    "chromeOptions.add_experimental_option('prefs', {\n",
    "    \"download.default_directory\": dnldpath,  #Change default directory for downloads\n",
    "    \"download.prompt_for_download\": False,  #To auto download the file\n",
    "    \"download.directory_upgrade\": True,\n",
    "    \"plugins.always_open_pdf_externally\": True,  #It will not show PDF directly in chrome\n",
    "    \"--enable-javascript\": True\n",
    "})\n",
    "# Open the driver\n",
    "driver = webdriver.Chrome(executable_path=driver_path, options=chromeOptions)"
   ]
  },
  {
   "cell_type": "markdown",
   "metadata": {
    "collapsed": false,
    "pycharm": {
     "name": "#%% md\n"
    }
   },
   "outputs": [],
   "source": [
    "## Direct Webscraping"
   ]
  },
  {
   "cell_type": "code",
   "execution_count": null,
   "metadata": {
    "collapsed": false,
    "pycharm": {
     "name": "#%%\n"
    }
   },
   "outputs": [],
   "source": [
    "url = \"http://www.gencourt.state.nh.us/bill_status/legacy/bs2016/\"\n",
    "driver.get(url)\n",
    "driver.find_element_by_css_selector(\"#txtsessionyear\").clear()\n",
    "\n",
    "acturls = []\n",
    "# signed by governor\n",
    "for year in range(1989, 2023):\n",
    "    url = \"http://www.gencourt.state.nh.us/bill_status/legacy/bs2016/\"\n",
    "    driver.get(url)\n",
    "    driver.find_element_by_css_selector(\"#txtsessionyear\").clear()\n",
    "\n",
    "    sessionyear = driver.find_element_by_css_selector(\"#txtsessionyear\")\n",
    "    sessionyear.send_keys(year)\n",
    "\n",
    "    code = [\"05\"]\n",
    "    status = driver.find_element_by_css_selector(\"#txtgstatus\")\n",
    "    status.send_keys(code)\n",
    "    driver.find_element_by_css_selector(\"#cmdsubmit\").click()\n",
    "    WebDriverWait(driver, 60).until(\n",
    "        EC.presence_of_element_located((By.PARTIAL_LINK_TEXT, \"Bill\"))\n",
    "    )\n",
    "    sleep(10)\n",
    "    acts = []\n",
    "    acts.extend(driver.find_elements_by_link_text(\"Bill Text\"))\n",
    "    acts.extend(driver.find_elements_by_link_text(\"[HTML]\"))\n",
    "    sleep(1)\n",
    "    for act in acts:\n",
    "        url = act.get_attribute(\"href\")\n",
    "        print(url)\n",
    "        acturls.append(url)\n",
    "        time.sleep(0.001)\n",
    "\n",
    "    # become law without siginature\n",
    "    url = \"http://www.gencourt.state.nh.us/bill_status/legacy/bs2016/\"\n",
    "    driver.get(url)\n",
    "    driver.find_element_by_css_selector(\"#txtsessionyear\").clear()\n",
    "    code = [\"06\"]\n",
    "    status = driver.find_element_by_css_selector(\"#txtgstatus\")\n",
    "    status.send_keys(code)\n",
    "    driver.find_element_by_css_selector(\"#cmdsubmit\").click()\n",
    "    sleep(10)\n",
    "    WebDriverWait(driver, 60).until(\n",
    "        EC.presence_of_element_located((By.CSS_SELECTOR, \"head\"))\n",
    "    )\n",
    "    acts = []\n",
    "    acts.extend(driver.find_elements_by_link_text(\"Bill Text\"))\n",
    "    acts.extend(driver.find_elements_by_link_text(\"[HTML]\"))\n",
    "    sleep(1)\n",
    "    for act in acts:\n",
    "        url = act.get_attribute(\"href\")\n",
    "        print(url)\n",
    "        acturls.append(url)\n",
    "        time.sleep(0.001)\n",
    "\n",
    "acttxts = []\n",
    "badurls = []\n",
    "for url in acturls:\n",
    "    driver.get(url)\n",
    "    t = randint(1, 10) * 0.001\n",
    "    time.sleep(t)\n",
    "    WebDriverWait(driver, 60).until(\n",
    "        EC.presence_of_element_located((By.CSS_SELECTOR, \"body\"))\n",
    "    )\n",
    "    try:\n",
    "        acttxt = driver.find_element_by_css_selector(\"body\").text\n",
    "        acttxts.append(acttxt)\n",
    "        t = randint(1, 10) * 0.001\n",
    "        time.sleep(t)\n",
    "        if \"Server Error\" in acttxt:\n",
    "            badurls.append(url)\n",
    "        else:\n",
    "            print(\"good\")\n",
    "    except:\n",
    "        print(url)\n",
    "        badurls.append(url)"
   ]
  },
  {
   "cell_type": "markdown",
   "metadata": {
    "collapsed": false,
    "pycharm": {
     "name": "#%% md\n"
    }
   },
   "source": [
    "## Text saving\n",
    "\n",
    "In this section, we used the below code to save all act full texts into several format files including excel, csv, pickle and json."
   ]
  },
  {
   "cell_type": "code",
   "execution_count": null,
   "metadata": {
    "collapsed": false,
    "pycharm": {
     "name": "#%%\n"
    }
   },
   "outputs": [],
   "source": [
    "datasource = pd.DataFrame({\n",
    "    'Full text': acttxts\n",
    "})\n",
    "\n",
    "datasource.drop_duplicates(subset = ['Full text'],\n",
    "                     keep = 'first', inplace = True, ignore_index= True)\n",
    "\n",
    "# save bill info into files\n",
    "datasource.to_excel('VT_Leginfo.xlsx')\n",
    "datasource.to_csv('VT_Leginfo.csv')\n",
    "datasource.to_pickle('VT_Leginfo.pkl')\n",
    "datasource.to_json('VT_Leginfo.json')"
   ]
  }
 ],
 "metadata": {
  "kernelspec": {
   "display_name": "py39",
   "language": "python",
   "name": "python3"
  },
  "language_info": {
   "codemirror_mode": {
    "name": "ipython",
    "version": 3
   },
   "file_extension": ".py",
   "mimetype": "text/x-python",
   "name": "python",
   "nbconvert_exporter": "python",
   "pygments_lexer": "ipython3",
   "version": "3.10.12"
  },
  "vscode": {
   "interpreter": {
    "hash": "72db359963b886546324fdab9aa5857888ab40de550209afc182f1efe35e5205"
   }
  }
 },
 "nbformat": 4,
 "nbformat_minor": 0
}