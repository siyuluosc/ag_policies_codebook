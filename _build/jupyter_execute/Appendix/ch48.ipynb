{
 "cells": [
  {
   "cell_type": "markdown",
   "metadata": {
    "collapsed": false,
    "pycharm": {
     "name": "#%% md\n"
    }
   },
   "source": [
    "# Ch 48 Vermont"
   ]
  },
  {
   "cell_type": "markdown",
   "metadata": {
    "collapsed": false,
    "pycharm": {
     "name": "#%% md\n"
    }
   },
   "source": [
    " [Vermont General Assembly](https://legislature.vermont.gov/bill/passed/2022#both-house-and-senate) stores all acts in Vermont.\n",
    "\n",
    "![Vermont General Assembly](pics/vt_web.png)\n"
   ]
  },
  {
   "cell_type": "markdown",
   "metadata": {
    "collapsed": false,
    "pycharm": {
     "name": "#%% md\n"
    }
   },
   "source": [
    "## Import libraries\n",
    "As introduced in the chapter 1, we need to import some libraries as follows."
   ]
  },
  {
   "cell_type": "code",
   "execution_count": 1,
   "metadata": {
    "collapsed": false,
    "pycharm": {
     "name": "#%%\n"
    }
   },
   "outputs": [],
   "source": [
    "import time\n",
    "from selenium import webdriver\n",
    "from selenium.webdriver.common.by import By\n",
    "from selenium.webdriver.support.ui import WebDriverWait\n",
    "from selenium.webdriver.support import expected_conditions as EC\n",
    "from selenium.webdriver.support.ui import Select\n",
    "from time import sleep\n",
    "import pandas as pd\n",
    "import datefinder\n",
    "import calendar\n",
    "import os\n",
    "import unittest\n",
    "from random import randint\n",
    "import PyPDF2\n",
    "import glob\n",
    "import pickle\n",
    "import numpy as np\n",
    "import fitz"
   ]
  },
  {
   "cell_type": "markdown",
   "metadata": {
    "collapsed": false,
    "pycharm": {
     "name": "#%% md\n"
    }
   },
   "source": [
    "## Browser setup\n",
    "\n",
    "Before scraping, we need to set up the browser. Here we use ChromeDriver for Google Chrome. You can download ChromeDriver from https://chromedriver.chromium.org/downloads following the version of Google Chrome you use on your laptop."
   ]
  },
  {
   "cell_type": "code",
   "execution_count": 2,
   "metadata": {
    "collapsed": false,
    "pycharm": {
     "name": "#%%\n"
    }
   },
   "outputs": [
    {
     "ename": "FileNotFoundError",
     "evalue": "[Errno 2] No such file or directory: 'yourpath'",
     "output_type": "error",
     "traceback": [
      "\u001b[0;31m---------------------------------------------------------------------------\u001b[0m",
      "\u001b[0;31mFileNotFoundError\u001b[0m                         Traceback (most recent call last)",
      "Cell \u001b[0;32mIn[2], line 4\u001b[0m\n\u001b[1;32m      1\u001b[0m driver_path \u001b[38;5;241m=\u001b[39m \u001b[38;5;124m'\u001b[39m\u001b[38;5;124myourpath/driver\u001b[39m\u001b[38;5;124m'\u001b[39m\n\u001b[1;32m      3\u001b[0m \u001b[38;5;66;03m# Change the working directory to your path on your computer\u001b[39;00m\n\u001b[0;32m----> 4\u001b[0m \u001b[43mos\u001b[49m\u001b[38;5;241;43m.\u001b[39;49m\u001b[43mchdir\u001b[49m\u001b[43m(\u001b[49m\u001b[38;5;124;43m'\u001b[39;49m\u001b[38;5;124;43myourpath\u001b[39;49m\u001b[38;5;124;43m'\u001b[39;49m\u001b[43m)\u001b[49m\n\u001b[1;32m      6\u001b[0m \u001b[38;5;66;03m# Get the working directory\u001b[39;00m\n\u001b[1;32m      7\u001b[0m cwd \u001b[38;5;241m=\u001b[39m os\u001b[38;5;241m.\u001b[39mgetcwd()\n",
      "\u001b[0;31mFileNotFoundError\u001b[0m: [Errno 2] No such file or directory: 'yourpath'"
     ]
    }
   ],
   "source": [
    "driver_path = 'yourpath/driver'\n",
    "\n",
    "# Change the working directory to your path on your computer\n",
    "os.chdir('yourpath')\n",
    "\n",
    "# Get the working directory\n",
    "cwd = os.getcwd()\n",
    "# Print the current working directory\n",
    "print(\"Current working directory: {0}\".format(cwd))\n",
    "\n",
    "# Set up the driver\n",
    "chromeOptions = webdriver.ChromeOptions()\n",
    "dnldpath = {\"download.default_directory\": \"your_download_path\"}\n",
    "chromeOptions.add_experimental_option('prefs', {\n",
    "    \"download.default_directory\": dnldpath,  #Change default directory for downloads\n",
    "    \"download.prompt_for_download\": False,  #To auto download the file\n",
    "    \"download.directory_upgrade\": True,\n",
    "    \"plugins.always_open_pdf_externally\": True,  #It will not show PDF directly in chrome\n",
    "    \"--enable-javascript\": True\n",
    "})\n",
    "# Open the driver\n",
    "driver = webdriver.Chrome(executable_path=driver_path, options=chromeOptions)"
   ]
  },
  {
   "cell_type": "markdown",
   "metadata": {
    "collapsed": false,
    "pycharm": {
     "name": "#%% md\n"
    }
   },
   "outputs": [],
   "source": [
    "## Direct Webscraping\n",
    "\n",
    "Clicking an act, there are several versions of full text. Our task is to webscrape the version of *Governor: Acts of Assembly Chapter text* and also download the PDF file.\n"
   ]
  },
  {
   "cell_type": "code",
   "execution_count": null,
   "metadata": {
    "collapsed": false,
    "pycharm": {
     "name": "#%%\n"
    }
   },
   "outputs": [],
   "source": [
    "act_urls = []\n",
    "\n",
    "for i in range(2010, 2024, 2):\n",
    "    print(i)\n",
    "    url1 = \"https://legislature.vermont.gov/bill/passed/\" + str(i) + \"#house\"\n",
    "    driver.get(url1)\n",
    "    sleep(1)\n",
    "    WebDriverWait(driver, 60).until(\n",
    "        EC.presence_of_element_located((By.CSS_SELECTOR, \"#bills-passed-senate\"))\n",
    "    )\n",
    "    driver.refresh()\n",
    "    sleep(1)\n",
    "    try:\n",
    "        driver.find_element_by_css_selector(\"#bills-passed-house_length > label > select > option:nth-child(2)\").click()\n",
    "        sleep(2)\n",
    "        acts = driver.find_elements_by_css_selector(\"#bills-passed-house > tbody > tr > td:nth-child(4) > a\")\n",
    "        for act in acts:\n",
    "            act_url = act.get_attribute(\"href\")\n",
    "            act_urls.append(act_url)\n",
    "    except:\n",
    "        print(i)\n",
    "        print(url1)\n",
    "\n",
    "    url2 = \"https://legislature.vermont.gov/bill/passed/\" + str(i) + \"?#senate\"\n",
    "    driver.get(url2)\n",
    "    sleep(1)\n",
    "    WebDriverWait(driver, 60).until(\n",
    "        EC.presence_of_element_located((By.CSS_SELECTOR, \"#bills-passed-senate\"))\n",
    "    )\n",
    "    driver.refresh()\n",
    "    sleep(1)\n",
    "    try:\n",
    "        driver.find_element_by_css_selector(\n",
    "            \"#bills-passed-senate_wrapper > div:nth-child(3) > div.dt-left > div > label > select > option:nth-child(2)\").click()\n",
    "        sleep(2)\n",
    "        acts = driver.find_elements_by_css_selector(\"#bills-passed-house > tbody > tr > td:nth-child(4) > a\")\n",
    "        for act in acts:\n",
    "            act_url = act.get_attribute(\"href\")\n",
    "            act_urls.append(act_url)\n",
    "    except:\n",
    "        print(i)\n",
    "        print(url2)\n",
    "\n",
    "    url3 = \"https://legislature.vermont.gov/bill/passed/\" + str(i) + \"#both-house-and-senate\"\n",
    "    driver.get(url3)\n",
    "    sleep(1)\n",
    "    WebDriverWait(driver, 60).until(\n",
    "        EC.presence_of_element_located((By.CSS_SELECTOR, \"#bills-passed-senate\"))\n",
    "    )\n",
    "    driver.refresh()\n",
    "    sleep(1)\n",
    "    try:\n",
    "        driver.find_element_by_css_selector(\n",
    "            \"#bills-passed-both_wrapper > div:nth-child(3) > div.dt-left > div > label > select > option:nth-child(2)\").click()\n",
    "        sleep(2)\n",
    "        acts = driver.find_elements_by_css_selector(\"#bills-passed-house > tbody > tr > td:nth-child(4) > a\")\n",
    "        for act in acts:\n",
    "            act_url = act.get_attribute(\"href\")\n",
    "            act_urls.append(act_url)\n",
    "    except:\n",
    "        print(i)\n",
    "        print(url3)\n",
    "\n",
    "for i in [\"2010.1\", \"2018.1\", \"2021.1\"]:\n",
    "    print(i)\n",
    "    url1 = \"https://legislature.vermont.gov/bill/passed/\" + str(i) + \"#house\"\n",
    "    driver.get(url1)\n",
    "    sleep(1)\n",
    "    WebDriverWait(driver, 60).until(\n",
    "        EC.presence_of_element_located((By.CSS_SELECTOR, \"#bills-passed-house\"))\n",
    "    )\n",
    "    driver.refresh()\n",
    "    sleep(1)\n",
    "    try:\n",
    "        driver.find_element_by_css_selector(\"#bills-passed-house_length > label > select > option:nth-child(2)\").click()\n",
    "        sleep(2)\n",
    "        acts = driver.find_elements_by_css_selector(\"#bills-passed-house > tbody > tr > td:nth-child(4) > a\")\n",
    "        for act in acts:\n",
    "            act_url = act.get_attribute(\"href\")\n",
    "            act_urls.append(act_url)\n",
    "    except:\n",
    "        print(i)\n",
    "        print(url1)\n",
    "\n",
    "    url2 = \"https://legislature.vermont.gov/bill/passed/\" + str(i) + \"?#senate\"\n",
    "    driver.get(url2)\n",
    "    sleep(1)\n",
    "    WebDriverWait(driver, 60).until(\n",
    "        EC.presence_of_element_located((By.CSS_SELECTOR, \"#bills-passed-senate\"))\n",
    "    )\n",
    "    driver.refresh()\n",
    "    sleep(1)\n",
    "    try:\n",
    "        driver.find_element_by_css_selector(\n",
    "            \"#bills-passed-senate_wrapper > div:nth-child(3) > div.dt-left > div > label > select > option:nth-child(2)\").click()\n",
    "        sleep(2)\n",
    "        acts = driver.find_elements_by_css_selector(\"#bills-passed-house > tbody > tr > td:nth-child(4) > a\")\n",
    "        for act in acts:\n",
    "            act_url = act.get_attribute(\"href\")\n",
    "            act_urls.append(act_url)\n",
    "    except:\n",
    "        print(i)\n",
    "        print(url2)\n",
    "\n",
    "    url3 = \"https://legislature.vermont.gov/bill/passed/\" + str(i) + \"#both-house-and-senate\"\n",
    "    driver.get(url3)\n",
    "    sleep(1)\n",
    "    WebDriverWait(driver, 60).until(\n",
    "        EC.presence_of_element_located((By.CSS_SELECTOR, \"#bills-passed-senate\"))\n",
    "    )\n",
    "    driver.refresh()\n",
    "    sleep(1)\n",
    "    try:\n",
    "        driver.find_element_by_css_selector(\n",
    "            \"#bills-passed-both_wrapper > div:nth-child(3) > div.dt-left > div > label > select > option:nth-child(2)\").click()\n",
    "        sleep(2)\n",
    "        acts = driver.find_elements_by_css_selector(\"#bills-passed-house > tbody > tr > td:nth-child(4) > a\")\n",
    "        for act in acts:\n",
    "            act_url = act.get_attribute(\"href\")\n",
    "            act_urls.append(act_url)\n",
    "    except:\n",
    "        print(i)\n",
    "        print(url3)\n",
    "act_urls = list(set(act_urls))\n",
    "\n",
    "for url in act_urls:\n",
    "    driver.get(url)"
   ]
  },
  {
   "cell_type": "markdown",
   "metadata": {
    "collapsed": false,
    "pycharm": {
     "name": "#%% md\n"
    }
   },
   "source": [
    "## Text extraction and saving\n",
    "\n",
    "In this section, we used the below code to extract all full texts from PDF files and save all act full texts into several format files including excel, csv, pickle and json."
   ]
  },
  {
   "cell_type": "code",
   "execution_count": null,
   "metadata": {
    "collapsed": false,
    "pycharm": {
     "name": "#%%\n"
    }
   },
   "outputs": [],
   "source": [
    "path = \"your_download_path\"\n",
    "files = glob.glob(os.path.join(path, '*.pdf'))\n",
    "acttxts = []\n",
    "for file in files:\n",
    "    doc = fitz.open(file)\n",
    "    pgtxts = []\n",
    "    for page in doc:\n",
    "        pgtxt = page.get_text()\n",
    "        pgtxts.append(pgtxt)\n",
    "        acttxt = ' '.join(pgtxts)\n",
    "    acttxts.append(acttxt)\n",
    "    doc.close()\n",
    "\n",
    "datasource = pd.DataFrame({\n",
    "    'Full text': acttxts\n",
    "})\n",
    "\n",
    "# save bill info into files\n",
    "datasource.to_excel('VT_Leginfo.xlsx')\n",
    "datasource.to_csv('VT_Leginfo.csv')\n",
    "datasource.to_pickle('VT_Leginfo.pkl')\n",
    "datasource.to_json('VT_Leginfo.json')"
   ]
  }
 ],
 "metadata": {
  "kernelspec": {
   "display_name": "py39",
   "language": "python",
   "name": "python3"
  },
  "language_info": {
   "codemirror_mode": {
    "name": "ipython",
    "version": 3
   },
   "file_extension": ".py",
   "mimetype": "text/x-python",
   "name": "python",
   "nbconvert_exporter": "python",
   "pygments_lexer": "ipython3",
   "version": "3.11.4"
  },
  "vscode": {
   "interpreter": {
    "hash": "72db359963b886546324fdab9aa5857888ab40de550209afc182f1efe35e5205"
   }
  }
 },
 "nbformat": 4,
 "nbformat_minor": 0
}