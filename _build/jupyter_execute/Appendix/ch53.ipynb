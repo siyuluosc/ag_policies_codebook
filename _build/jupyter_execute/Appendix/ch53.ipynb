{
 "cells": [
  {
   "cell_type": "markdown",
   "metadata": {
    "collapsed": false,
    "pycharm": {
     "name": "#%% md\n"
    }
   },
   "source": [
    "# Ch 53 Wyoming"
   ]
  },
  {
   "cell_type": "markdown",
   "metadata": {
    "collapsed": false,
    "pycharm": {
     "name": "#%% md\n"
    }
   },
   "source": [
    " [Wyoming Legislature](https://www.wyoleg.gov/) stores all public acts in Wyoming since 2001. On the website, there is a Legislation Archives page.\n",
    "\n",
    "![Wyoming Legislature](pics/wy_archive.png)"
   ]
  },
  {
   "cell_type": "markdown",
   "metadata": {
    "collapsed": false,
    "pycharm": {
     "name": "#%% md\n"
    }
   },
   "source": [
    "## Import libraries\n",
    "As introduced in the chapter 1, we need to import some libraries as follows."
   ]
  },
  {
   "cell_type": "code",
   "execution_count": 1,
   "metadata": {
    "collapsed": false,
    "pycharm": {
     "name": "#%%\n"
    }
   },
   "outputs": [],
   "source": [
    "import time\n",
    "from selenium import webdriver\n",
    "from selenium.webdriver.common.by import By\n",
    "from selenium.webdriver.support.ui import WebDriverWait\n",
    "from selenium.webdriver.support import expected_conditions as EC\n",
    "from selenium.webdriver.support.ui import Select\n",
    "from time import sleep\n",
    "import pandas as pd\n",
    "import datefinder\n",
    "import calendar\n",
    "import os\n",
    "import unittest\n",
    "from random import randint\n",
    "import PyPDF2\n",
    "import glob\n",
    "import pickle\n",
    "import numpy as np\n",
    "import fitz"
   ]
  },
  {
   "cell_type": "markdown",
   "metadata": {
    "collapsed": false,
    "pycharm": {
     "name": "#%% md\n"
    }
   },
   "source": [
    "## Browser setup\n",
    "\n",
    "Before scraping, we need to set up the browser. Here we use ChromeDriver for Google Chrome. You can download ChromeDriver from https://chromedriver.chromium.org/downloads following the version of Google Chrome you use on your laptop."
   ]
  },
  {
   "cell_type": "code",
   "execution_count": 2,
   "metadata": {
    "collapsed": false,
    "pycharm": {
     "name": "#%%\n"
    }
   },
   "outputs": [
    {
     "ename": "FileNotFoundError",
     "evalue": "[Errno 2] No such file or directory: 'yourpath'",
     "output_type": "error",
     "traceback": [
      "\u001b[0;31m---------------------------------------------------------------------------\u001b[0m",
      "\u001b[0;31mFileNotFoundError\u001b[0m                         Traceback (most recent call last)",
      "Cell \u001b[0;32mIn[2], line 4\u001b[0m\n\u001b[1;32m      1\u001b[0m driver_path \u001b[38;5;241m=\u001b[39m \u001b[38;5;124m'\u001b[39m\u001b[38;5;124myourpath/driver\u001b[39m\u001b[38;5;124m'\u001b[39m\n\u001b[1;32m      3\u001b[0m \u001b[38;5;66;03m# Change the working directory to your path on your computer\u001b[39;00m\n\u001b[0;32m----> 4\u001b[0m \u001b[43mos\u001b[49m\u001b[38;5;241;43m.\u001b[39;49m\u001b[43mchdir\u001b[49m\u001b[43m(\u001b[49m\u001b[38;5;124;43m'\u001b[39;49m\u001b[38;5;124;43myourpath\u001b[39;49m\u001b[38;5;124;43m'\u001b[39;49m\u001b[43m)\u001b[49m\n\u001b[1;32m      6\u001b[0m \u001b[38;5;66;03m# Get the working directory\u001b[39;00m\n\u001b[1;32m      7\u001b[0m cwd \u001b[38;5;241m=\u001b[39m os\u001b[38;5;241m.\u001b[39mgetcwd()\n",
      "\u001b[0;31mFileNotFoundError\u001b[0m: [Errno 2] No such file or directory: 'yourpath'"
     ]
    }
   ],
   "source": [
    "driver_path = 'yourpath/driver'\n",
    "\n",
    "# Change the working directory to your path on your computer\n",
    "os.chdir('yourpath')\n",
    "\n",
    "# Get the working directory\n",
    "cwd = os.getcwd()\n",
    "# Print the current working directory\n",
    "print(\"Current working directory: {0}\".format(cwd))\n",
    "\n",
    "# Set up the driver\n",
    "chromeOptions = webdriver.ChromeOptions()\n",
    "dnldpath = {\"download.default_directory\": \"your_download_path\"}\n",
    "chromeOptions.add_experimental_option('prefs', {\n",
    "    \"download.default_directory\": dnldpath,  #Change default directory for downloads\n",
    "    \"download.prompt_for_download\": False,  #To auto download the file\n",
    "    \"download.directory_upgrade\": True,\n",
    "    \"plugins.always_open_pdf_externally\": True,  #It will not show PDF directly in chrome\n",
    "    \"--enable-javascript\": True\n",
    "})\n",
    "# Open the driver\n",
    "driver = webdriver.Chrome(executable_path=driver_path, options=chromeOptions)"
   ]
  },
  {
   "cell_type": "markdown",
   "metadata": {
    "collapsed": false,
    "pycharm": {
     "name": "#%% md\n"
    }
   },
   "outputs": [],
   "source": [
    "## Direct webscraping\n",
    "On Legislation Archives page, selecting a year and clicking *Enrolled Bills* button, we can see all enrolled bills. ![WY Legislature](pics/wy_enroll.png)"
   ]
  },
  {
   "cell_type": "markdown",
   "metadata": {
    "collapsed": false,
    "pycharm": {
     "name": "#%% md\n"
    }
   },
   "source": [
    "After enrolled bills show up, clicking one, we can see the bill full text.\n",
    "\n",
    "![WY Legislature](pics/wy_text.png)\n"
   ]
  },
  {
   "cell_type": "code",
   "execution_count": null,
   "metadata": {
    "collapsed": false,
    "pycharm": {
     "name": "#%%\n"
    }
   },
   "outputs": [],
   "source": [
    "act_urls = []\n",
    "\n",
    "for year in range(2001, 2023):\n",
    "    url = \"https://www.wyoleg.gov/Legislation/\" + str(year)\n",
    "    driver.get(url)\n",
    "    time.sleep(1)\n",
    "    WebDriverWait(driver, 60).until(\n",
    "        EC.presence_of_element_located((By.CSS_SELECTOR, \"body > div > div\"))\n",
    "    )\n",
    "    time.sleep(2)\n",
    "    driver.find_element_by_css_selector(\n",
    "        \"body > div > div > div:nth-child(3) > section > div > div:nth-child(4) > input:nth-child(3)\").click()\n",
    "    time.sleep(2)\n",
    "    acts = driver.find_elements_by_css_selector(\n",
    "        \"body > div > div > div:nth-child(3) > section > div > div.table-responsive.ng-scope > table > tbody.ng-scope > tr > td:nth-child(1) > a\")\n",
    "    for act in acts:\n",
    "        act_url = \"https://www.wyoleg.gov/Legislation/\" + str(year) + \"/\" + str(act.text)\n",
    "        act_urls.append(act_url)\n",
    "\n",
    "for year in range(2019, 2022):\n",
    "    url = \"https://www.wyoleg.gov/Legislation/\" + str(year) + \"?specialSessionValue=1\"\n",
    "    driver.get(url)\n",
    "    WebDriverWait(driver, 60).until(\n",
    "        EC.presence_of_element_located((By.CSS_SELECTOR, \"body > div > div\"))\n",
    "    )\n",
    "    time.sleep(3)\n",
    "    driver.find_element_by_css_selector(\n",
    "        \"body > div > div > div:nth-child(3) > section > div > div:nth-child(4) > input:nth-child(3)\").click()\n",
    "    time.sleep(3)\n",
    "    acts = driver.find_elements_by_css_selector(\n",
    "        \"body > div > div > div:nth-child(3) > section > div > div.table-responsive.ng-scope > table > tbody.ng-scope > tr > td:nth-child(1) > a\")\n",
    "    for act in acts:\n",
    "        act_url = \"https://www.wyoleg.gov/Legislation/\" + str(year) + \"/\" + str(act.text)\n",
    "        act_urls.append(act_url)\n",
    "\n",
    "act_urls = [*set(act_urls)]\n",
    "\n",
    "acttxts = []\n",
    "checklist = []\n",
    "\n",
    "for i,url in enumerate(act_urls):\n",
    "    print(i)\n",
    "    driver.get(url)\n",
    "    time.sleep(1)\n",
    "    try:\n",
    "        WebDriverWait(driver, 60).until(\n",
    "            EC.presence_of_element_located((By.CSS_SELECTOR, \"body > div > div > div:nth-child(3) > section > div > div.ng-scope > div > div > div.tab-pane.ng-scope.active > div.col-md-8.ng-scope\"))\n",
    "        )\n",
    "        acttxt = driver.find_element_by_css_selector(\"body > div > div > div:nth-child(3) > section > div > div.ng-scope > div > div > div.tab-pane.ng-scope.active > div.col-md-8.ng-scope\").text\n",
    "        acttxts.append(acttxt)\n",
    "        time.sleep(0.001)\n",
    "    except:\n",
    "        checklist.append(url)\n",
    "\n",
    "for url in checklist:\n",
    "    print(url)"
   ]
  },
  {
   "cell_type": "markdown",
   "metadata": {
    "collapsed": false,
    "pycharm": {
     "name": "#%% md\n"
    }
   },
   "source": [
    "## Text extraction and saving\n",
    "\n",
    "In this section, we used the below code to extract all full texts from PDF files and save all act full texts into several format files including excel, csv, pickle and json."
   ]
  },
  {
   "cell_type": "code",
   "execution_count": null,
   "metadata": {
    "collapsed": false,
    "pycharm": {
     "name": "#%%\n"
    }
   },
   "outputs": [],
   "source": [
    "datasource = pd.DataFrame({\n",
    "    'Full text': acttxts\n",
    "})\n",
    "\n",
    "datasource.drop_duplicates(subset = ['Full text'],\n",
    "                     keep = 'first', inplace = True, ignore_index= True)\n",
    "# save bill info into files\n",
    "datasource.to_excel('WY_Leginfo.xlsx')\n",
    "datasource.to_csv('WY_Leginfo.csv')\n",
    "datasource.to_pickle('WY_Leginfo.pkl')\n",
    "datasource.to_json('WY_Leginfo.json')"
   ]
  }
 ],
 "metadata": {
  "kernelspec": {
   "display_name": "py39",
   "language": "python",
   "name": "python3"
  },
  "language_info": {
   "codemirror_mode": {
    "name": "ipython",
    "version": 3
   },
   "file_extension": ".py",
   "mimetype": "text/x-python",
   "name": "python",
   "nbconvert_exporter": "python",
   "pygments_lexer": "ipython3",
   "version": "3.11.4"
  },
  "vscode": {
   "interpreter": {
    "hash": "72db359963b886546324fdab9aa5857888ab40de550209afc182f1efe35e5205"
   }
  }
 },
 "nbformat": 4,
 "nbformat_minor": 0
}