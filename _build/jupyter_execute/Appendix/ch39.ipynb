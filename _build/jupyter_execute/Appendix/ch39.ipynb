{
 "cells": [
  {
   "cell_type": "markdown",
   "metadata": {
    "collapsed": false,
    "pycharm": {
     "name": "#%% md\n"
    }
   },
   "source": [
    "# Ch 39 Oklahoma"
   ]
  },
  {
   "cell_type": "markdown",
   "metadata": {
    "collapsed": false,
    "pycharm": {
     "name": "#%% md\n"
    }
   },
   "source": [
    "[Oklahoma State Legislature](http://www.oklegislature.gov/TextOfMeasures.aspx) website stores all acts passed in Oklahoma. The web address is http://www.oklegislature.gov/TextOfMeasures.aspx.\n",
    "\n",
    "![Oklahoma Legislature website](pics/ok_web.png)"
   ]
  },
  {
   "cell_type": "markdown",
   "metadata": {
    "collapsed": false,
    "pycharm": {
     "name": "#%% md\n"
    }
   },
   "source": [
    "## import libraries\n",
    "As introduced in the chapter 1, we need to import some libraries as follows."
   ]
  },
  {
   "cell_type": "code",
   "execution_count": 1,
   "metadata": {
    "collapsed": false,
    "pycharm": {
     "name": "#%%\n"
    }
   },
   "outputs": [],
   "source": [
    "import time\n",
    "from selenium import webdriver\n",
    "from selenium.webdriver.common.by import By\n",
    "from selenium.webdriver.support.ui import WebDriverWait\n",
    "from selenium.webdriver.support import expected_conditions as EC\n",
    "from selenium.webdriver.support.ui import Select\n",
    "from time import sleep\n",
    "import pandas as pd\n",
    "import datefinder\n",
    "import calendar\n",
    "import os\n",
    "import unittest\n",
    "from random import randint\n",
    "import PyPDF2\n",
    "import glob\n",
    "import pickle\n",
    "import numpy as np\n",
    "import fitz"
   ]
  },
  {
   "cell_type": "markdown",
   "metadata": {
    "collapsed": false,
    "pycharm": {
     "name": "#%% md\n"
    }
   },
   "source": [
    "## Browser setup\n",
    "\n",
    "Before scraping, we need to set up the browser. Here we use ChromeDriver for Google Chrome. You can download ChromeDriver from https://chromedriver.chromium.org/downloads following the version of Google Chrome you use on your laptop."
   ]
  },
  {
   "cell_type": "code",
   "execution_count": 2,
   "metadata": {
    "collapsed": false,
    "pycharm": {
     "name": "#%%\n"
    }
   },
   "outputs": [
    {
     "ename": "FileNotFoundError",
     "evalue": "[Errno 2] No such file or directory: '/yourpath/'",
     "output_type": "error",
     "traceback": [
      "\u001b[0;31m---------------------------------------------------------------------------\u001b[0m",
      "\u001b[0;31mFileNotFoundError\u001b[0m                         Traceback (most recent call last)",
      "Cell \u001b[0;32mIn[2], line 4\u001b[0m\n\u001b[1;32m      1\u001b[0m driver_path \u001b[38;5;241m=\u001b[39m \u001b[38;5;124m'\u001b[39m\u001b[38;5;124m/yourpath/driver\u001b[39m\u001b[38;5;124m'\u001b[39m\n\u001b[1;32m      3\u001b[0m \u001b[38;5;66;03m# Change the working directory to your path on your computer\u001b[39;00m\n\u001b[0;32m----> 4\u001b[0m \u001b[43mos\u001b[49m\u001b[38;5;241;43m.\u001b[39;49m\u001b[43mchdir\u001b[49m\u001b[43m(\u001b[49m\u001b[38;5;124;43m'\u001b[39;49m\u001b[38;5;124;43m/yourpath/\u001b[39;49m\u001b[38;5;124;43m'\u001b[39;49m\u001b[43m)\u001b[49m\n\u001b[1;32m      6\u001b[0m \u001b[38;5;66;03m# Get the working directory\u001b[39;00m\n\u001b[1;32m      7\u001b[0m cwd \u001b[38;5;241m=\u001b[39m os\u001b[38;5;241m.\u001b[39mgetcwd()\n",
      "\u001b[0;31mFileNotFoundError\u001b[0m: [Errno 2] No such file or directory: '/yourpath/'"
     ]
    }
   ],
   "source": [
    "driver_path = '/yourpath/driver'\n",
    "\n",
    "# Change the working directory to your path on your computer\n",
    "os.chdir('/yourpath/')\n",
    "\n",
    "# Get the working directory\n",
    "cwd = os.getcwd()\n",
    "# Print the current working directory\n",
    "print(\"Current working directory: {0}\".format(cwd))\n",
    "\n",
    "# Set up the driver\n",
    "chromeOptions = webdriver.ChromeOptions()\n",
    "dnldpath = {\"download.default_directory\": \"/your_download_path\"}\n",
    "chromeOptions.add_experimental_option('prefs', {\n",
    "    \"download.default_directory\": dnldpath,  #Change default directory for downloads\n",
    "    \"download.prompt_for_download\": False,  #To auto download the file\n",
    "    \"download.directory_upgrade\": True,\n",
    "    \"plugins.always_open_pdf_externally\": True,  #It will not show PDF directly in chrome\n",
    "    \"--enable-javascript\": True\n",
    "})\n",
    "# Open the driver\n",
    "driver = webdriver.Chrome(executable_path=driver_path, options=chromeOptions)"
   ]
  },
  {
   "cell_type": "markdown",
   "metadata": {
    "collapsed": false,
    "pycharm": {
     "name": "#%% md\n"
    }
   },
   "source": [
    "## PDF file download\n",
    "As shown on the above screenshot of [Oklahoma State Legislature](http://www.oklegislature.gov/TextOfMeasures.aspx), users can select chamber, format, session and status. Here, we are to download all PDF files of acts by selecting *Adobe PDF* under **Select Format** and *Enrolled* under **Select Status**. For the both chambers, we have two pieces of code to get all act PDF file urls."
   ]
  },
  {
   "cell_type": "markdown",
   "metadata": {
    "collapsed": false,
    "pycharm": {
     "name": "#%% md\n"
    }
   },
   "source": [
    "### Get all PDF files for both chambers"
   ]
  },
  {
   "cell_type": "code",
   "execution_count": null,
   "metadata": {
    "collapsed": false,
    "pycharm": {
     "name": "#%%\n"
    }
   },
   "outputs": [],
   "source": [
    "urls = []\n",
    "\n",
    "driver.get('http://www.oklegislature.gov/TextOfMeasures.aspx')\n",
    "\n",
    "sessions = [\"2022 Regular Session\", \"2023 Regular Session\", \"2022 Third Special Session\", \"2022 Second Special Session\",\n",
    "            \"2021 First Special Session\", \"2021 Regular Session - Web\", \"2020 Regular Session\",\n",
    "            \"2020 First Special Session\", \"2019 Regular Session\", \"2018 Regular Session\", \"2017 Second Special Session\",\n",
    "            \"2017 First Special Session\", \"2017 Regular Session\", \"2016 Regular Session\", \"2015 Regular Session\",\n",
    "            \"2014 Regular Session\", \"2013 Special Session\", \"2013 Regular Session\", \"2012 Regular Session\",\n",
    "            \"2011 Regular Session\", \"2010 Regular Session\", \"2009 Regular Session\", \"2008 Regular Session\",\n",
    "            \"2007 Regular Session\", \"2006 Second Special Session\", \"2006 Regular Session\", \"2005 Special Session\",\n",
    "            \"2005 Regular Session\", \"2004 Special Session\", \"2004 Regular Session\", \"2003 Regular Session\",\n",
    "            \"2002 Regular Session\", \"2001 Special Session\", \"2001 Regular Session\", \"2012 Special Session\",\n",
    "            \"2000 Regular Session\", \"1999 Special Session\", \"1999 Regular Session\", \"1998 Regular Session\",\n",
    "            \"1997 Regular Session\", \"1996 Regular Session\", \"1995 Regular Session\", \"1994 Second Special Session\",\n",
    "            \"1994 First Special Session\", \"1994 Regular Session\", \"1993 Regular Session\"]\n",
    "\n",
    "#for senate\n",
    "for session in sessions:\n",
    "    print(session)\n",
    "    select_session = Select(driver.find_element_by_css_selector('#ctl00_ContentPlaceHolder1_cbxSessionId'))\n",
    "    select_session.select_by_visible_text(session)\n",
    "    sleep(1)\n",
    "    select_status = Select(driver.find_element_by_css_selector('#ctl00_ContentPlaceHolder1_lbxMeasureStatus'))\n",
    "    select_status.select_by_visible_text(\"Enrolled\")\n",
    "    driver.find_element_by_css_selector('#ctl00_ContentPlaceHolder1_Button1').click()\n",
    "    sleep(1)\n",
    "    WebDriverWait(driver, 60).until(\n",
    "        EC.presence_of_element_located((By.CSS_SELECTOR, \"#ctl00_ContentPlaceHolder1_tblTomData\"))\n",
    "    )\n",
    "    acts = driver.find_elements_by_css_selector('#ctl00_ContentPlaceHolder1_tblTomData > tbody > tr h2 b a')\n",
    "    for act in acts:\n",
    "        url = act.get_attribute(\"href\")\n",
    "        urls.append(url)\n",
    "\n",
    "#for house\n",
    "for session in sessions:\n",
    "    print(session)\n",
    "    driver.find_element_by_css_selector(\"#ctl00_ContentPlaceHolder1_rbChamber_1\").click()\n",
    "    select_session = Select(driver.find_element_by_css_selector('#ctl00_ContentPlaceHolder1_cbxSessionId'))\n",
    "    select_session.select_by_visible_text(session)\n",
    "    sleep(1)\n",
    "    select_status = Select(driver.find_element_by_css_selector('#ctl00_ContentPlaceHolder1_lbxMeasureStatus'))\n",
    "    select_status.select_by_visible_text(\"Enrolled\")\n",
    "    driver.find_element_by_css_selector('#ctl00_ContentPlaceHolder1_Button1').click()\n",
    "    sleep(1)\n",
    "    WebDriverWait(driver, 60).until(\n",
    "        EC.presence_of_element_located((By.CSS_SELECTOR, \"#ctl00_ContentPlaceHolder1_tblTomData\"))\n",
    "    )\n",
    "    acts = driver.find_elements_by_css_selector('#ctl00_ContentPlaceHolder1_tblTomData > tbody > tr h2 b a')\n",
    "    for act in acts:\n",
    "        url = act.get_attribute(\"href\")\n",
    "        urls.append(url)"
   ]
  },
  {
   "cell_type": "markdown",
   "metadata": {
    "collapsed": false,
    "pycharm": {
     "name": "#%% md\n"
    }
   },
   "source": [
    "### Get all PDF files from above urls"
   ]
  },
  {
   "cell_type": "code",
   "execution_count": null,
   "metadata": {
    "collapsed": false,
    "pycharm": {
     "name": "#%%\n"
    }
   },
   "outputs": [],
   "source": [
    "for index,url in enumerate(urls):\n",
    "    driver.get(url)\n",
    "    print(index)"
   ]
  },
  {
   "cell_type": "markdown",
   "metadata": {
    "collapsed": false,
    "pycharm": {
     "name": "#%% md\n"
    }
   },
   "source": [
    "## Text extraction and saving\n",
    "\n",
    "In this section, we used the below code to extract all full texts from PDF files and save all act full texts into several format files including excel, csv, pickle and json."
   ]
  },
  {
   "cell_type": "code",
   "execution_count": null,
   "metadata": {
    "collapsed": false,
    "pycharm": {
     "name": "#%%\n"
    }
   },
   "outputs": [],
   "source": [
    "acttxts = []\n",
    "pgtxts = []\n",
    "badfiles = []\n",
    "for file in files:\n",
    "    try:\n",
    "        doc = fitz.open(file)\n",
    "        pgtxts = []\n",
    "        for page in doc:\n",
    "            pgtxt = page.get_text()\n",
    "            pgtxts.append(pgtxt)\n",
    "            acttxt = ' '.join(pgtxts)\n",
    "        acttxts.append(acttxt)\n",
    "        doc.close()\n",
    "    except:\n",
    "        print(file)\n",
    "        badfiles.append(file)\n",
    "\n",
    "datasource = pd.DataFrame({\n",
    "    'Full text': acttxts\n",
    "})\n",
    "\n",
    "datasource.drop_duplicates(subset=['Full text'],\n",
    "                           keep='first', inplace=True, ignore_index=True)\n",
    "\n",
    "datasource.to_excel('OK_Leginfo.xlsx')\n",
    "datasource.to_csv('OK_Leginfo.csv')\n",
    "datasource.to_pickle('OK_Leginfo.pkl')\n",
    "datasource.to_json('OK_Leginfo.json')"
   ]
  },
  {
   "cell_type": "markdown",
   "metadata": {
    "collapsed": false,
    "pycharm": {
     "name": "#%% md\n"
    }
   },
   "source": [
    "There are three types of law sessions including regular session, special session and special organization session. All enrolled bills are named by \"HB\",\"SB\",\"SR\",\"HR\",\"SJR\", or \"HJR\" plus bill number and ended with \"-enr\". They are stored as pdf files on Alabama Secretary of State website. You can check the acts on [Alabama Legislature website](https://alison.legislature.state.al.us/acts)."
   ]
  },
  {
   "attachments": {},
   "cell_type": "markdown",
   "metadata": {
    "pycharm": {
     "name": "#%% md\n"
    }
   },
   "source": [
    "## import libraries\n",
    "As introduced in the chapter 1, we need to import some libraries as follows."
   ]
  },
  {
   "cell_type": "code",
   "execution_count": 10,
   "metadata": {
    "collapsed": false,
    "pycharm": {
     "name": "#%%\n"
    }
   },
   "outputs": [],
   "source": [
    "import time\n",
    "from selenium import webdriver\n",
    "from selenium.webdriver.common.by import By\n",
    "from selenium.webdriver.support.ui import WebDriverWait\n",
    "from selenium.webdriver.support import expected_conditions as EC\n",
    "from selenium.webdriver.support.ui import Select\n",
    "from time import sleep\n",
    "import pandas as pd\n",
    "import datefinder\n",
    "import calendar\n",
    "import os\n",
    "import unittest\n",
    "from random import randint\n",
    "import PyPDF2\n",
    "import glob\n",
    "import pickle\n",
    "import numpy as np\n",
    "import fitz"
   ]
  },
  {
   "attachments": {},
   "cell_type": "markdown",
   "metadata": {
    "pycharm": {
     "name": "#%% md\n"
    }
   },
   "source": [
    "## Browser setup\n",
    "\n",
    "Before scraping, we need to set up the browser. Here we use ChromeDriver for Google Chrome. You can download ChromeDriver from https://chromedriver.chromium.org/downloads following the version of Google Chrome you use on your laptop."
   ]
  },
  {
   "cell_type": "code",
   "execution_count": 11,
   "metadata": {
    "pycharm": {
     "name": "#%%\n"
    }
   },
   "outputs": [
    {
     "ename": "FileNotFoundError",
     "evalue": "[Errno 2] No such file or directory: '/yourpath/'",
     "output_type": "error",
     "traceback": [
      "\u001b[0;31m---------------------------------------------------------------------------\u001b[0m",
      "\u001b[0;31mFileNotFoundError\u001b[0m                         Traceback (most recent call last)",
      "\u001b[1;32m/Users/long/Library/CloudStorage/OneDrive-Personal/Projects/AFRI_Coding/codebook/ch3.ipynb Cell 7\u001b[0m in \u001b[0;36m<cell line: 4>\u001b[0;34m()\u001b[0m\n\u001b[1;32m      <a href='vscode-notebook-cell:/Users/long/Library/CloudStorage/OneDrive-Personal/Projects/AFRI_Coding/codebook/ch3.ipynb#X12sZmlsZQ%3D%3D?line=0'>1</a>\u001b[0m driver_path \u001b[39m=\u001b[39m \u001b[39m'\u001b[39m\u001b[39m/yourpath/to/driver\u001b[39m\u001b[39m'\u001b[39m\n\u001b[1;32m      <a href='vscode-notebook-cell:/Users/long/Library/CloudStorage/OneDrive-Personal/Projects/AFRI_Coding/codebook/ch3.ipynb#X12sZmlsZQ%3D%3D?line=2'>3</a>\u001b[0m \u001b[39m# Change the working directory\u001b[39;00m\n\u001b[0;32m----> <a href='vscode-notebook-cell:/Users/long/Library/CloudStorage/OneDrive-Personal/Projects/AFRI_Coding/codebook/ch3.ipynb#X12sZmlsZQ%3D%3D?line=3'>4</a>\u001b[0m os\u001b[39m.\u001b[39;49mchdir(\u001b[39m'\u001b[39;49m\u001b[39m/yourpath/\u001b[39;49m\u001b[39m'\u001b[39;49m)\n\u001b[1;32m      <a href='vscode-notebook-cell:/Users/long/Library/CloudStorage/OneDrive-Personal/Projects/AFRI_Coding/codebook/ch3.ipynb#X12sZmlsZQ%3D%3D?line=5'>6</a>\u001b[0m cwd \u001b[39m=\u001b[39m os\u001b[39m.\u001b[39mgetcwd()\n\u001b[1;32m      <a href='vscode-notebook-cell:/Users/long/Library/CloudStorage/OneDrive-Personal/Projects/AFRI_Coding/codebook/ch3.ipynb#X12sZmlsZQ%3D%3D?line=6'>7</a>\u001b[0m \u001b[39m# Print the current working directory\u001b[39;00m\n",
      "\u001b[0;31mFileNotFoundError\u001b[0m: [Errno 2] No such file or directory: '/yourpath/'"
     ]
    }
   ],
   "source": [
    "driver_path = '/yourpath/driver'\n",
    "\n",
    "# Change the working directory to your path on your computer\n",
    "os.chdir('/yourpath/')\n",
    "\n",
    "# Get the working directory\n",
    "cwd = os.getcwd()\n",
    "# Print the current working directory\n",
    "print(\"Current working directory: {0}\".format(cwd))\n",
    "\n",
    "# Set up the driver\n",
    "chromeOptions = webdriver.ChromeOptions()\n",
    "dnldpath = {\"download.default_directory\": \"/your_download_path\"}\n",
    "chromeOptions.add_experimental_option('prefs', {\n",
    "    \"download.default_directory\": dnldpath,  #Change default directory for downloads\n",
    "    \"download.prompt_for_download\": False,  #To auto download the file\n",
    "    \"download.directory_upgrade\": True,\n",
    "    \"plugins.always_open_pdf_externally\": True,  #It will not show PDF directly in chrome\n",
    "    \"--enable-javascript\": True\n",
    "})\n",
    "# Open the driver\n",
    "driver = webdriver.Chrome(executable_path=driver_path, options=chromeOptions)"
   ]
  },
  {
   "attachments": {},
   "cell_type": "markdown",
   "metadata": {
    "pycharm": {
     "name": "#%% md\n"
    }
   },
   "source": [
    "## PDF file download\n",
    "As shown on [Alabama Legislature website](http://alisondb.legislature.state.al.us/Alison/SelectSession.aspx), all sessions are stored since 2000. We scraped all passed acts since 2000 within a loop using the code `for yr in range(2000, 2023)`. There are four types of sessions including regular session (RS), first special session (FS), second special session (SS), and organizational session (OS). For these session types, we had the loop `for st in (\"RS\",\"FS\",\"SS\",\"OS\")`. For acts, there are also six types based on the act sponsor including \"HB\", \"SB\", \"SR\", \"HR\", \"SJR\", \"HJR\". All act PDF files, i.e., enrolled bills are files with the pattern: http://alisondb.legislature.state.al.us/ALISON/SearchableInstruments/ + year + session type + \"/PrintFiles/\" + act type + order number + \"-enr.pdf\". Using this pattern, we can download all act PDF files."
   ]
  },
  {
   "cell_type": "code",
   "execution_count": null,
   "metadata": {
    "pycharm": {
     "name": "#%%\n"
    }
   },
   "outputs": [],
   "source": [
    "for yr in range(2000,2023):\n",
    "    print(yr)\n",
    "    for n in range(1,1000):\n",
    "        for t in (\"HB\",\"SB\",\"SR\",\"HR\",\"SJR\",\"HJR\"):\n",
    "            for st in (\"RS\",\"FS\",\"SS\",\"OS\"):\n",
    "                url = \"http://alisondb.legislature.state.al.us/ALISON/SearchableInstruments/\" + str(yr) + st + \"/PrintFiles/\" + t + str(n) + \"-enr.pdf\"\n",
    "                driver.get(url)\n",
    "                time.sleep(0.001)"
   ]
  },
  {
   "attachments": {},
   "cell_type": "markdown",
   "metadata": {
    "pycharm": {
     "name": "#%% md\n"
    }
   },
   "source": [
    "## Text extraction and saving\n",
    "\n",
    "In this section, we used the below code to extract all full texts from PDF files and save all act full texts into several format files including excel, csv, pickle and json."
   ]
  },
  {
   "cell_type": "code",
   "execution_count": null,
   "metadata": {
    "pycharm": {
     "name": "#%%\n"
    }
   },
   "outputs": [],
   "source": [
    "acttxts = []\n",
    "pgtxts = []\n",
    "badfiles = []\n",
    "for file in files:\n",
    "    try:\n",
    "        doc = fitz.open(file)\n",
    "        pgtxts = []\n",
    "        for page in doc:\n",
    "            pgtxt = page.get_text()\n",
    "            pgtxts.append(pgtxt)\n",
    "            acttxt = ' '.join(pgtxts)\n",
    "        acttxts.append(acttxt)\n",
    "        doc.close()\n",
    "    except:\n",
    "        print(file)\n",
    "        badfiles.append(file)\n",
    "\n",
    "datasource = pd.DataFrame({\n",
    "    'Full text': acttxts\n",
    "})\n",
    "\n",
    "datasource.drop_duplicates(subset=['Full text'],\n",
    "                           keep='first', inplace=True, ignore_index=True)\n",
    "\n",
    "datasource.to_excel('AL_Leginfo.xlsx')\n",
    "datasource.to_csv('AL_Leginfo.csv')\n",
    "datasource.to_pickle('AL_Leginfo.pkl')\n",
    "datasource.to_json('AL_Leginfo.json')"
   ]
  }
 ],
 "metadata": {
  "kernelspec": {
   "display_name": "py39",
   "language": "python",
   "name": "python3"
  },
  "language_info": {
   "codemirror_mode": {
    "name": "ipython",
    "version": 3
   },
   "file_extension": ".py",
   "mimetype": "text/x-python",
   "name": "python",
   "nbconvert_exporter": "python",
   "pygments_lexer": "ipython3",
   "version": "3.11.4"
  },
  "vscode": {
   "interpreter": {
    "hash": "72db359963b886546324fdab9aa5857888ab40de550209afc182f1efe35e5205"
   }
  }
 },
 "nbformat": 4,
 "nbformat_minor": 0
}