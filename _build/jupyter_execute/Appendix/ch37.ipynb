{
 "cells": [
  {
   "cell_type": "markdown",
   "metadata": {
    "collapsed": false,
    "pycharm": {
     "name": "#%% md\n"
    }
   },
   "source": [
    "# Ch 46 North Dakota"
   ]
  },
  {
   "cell_type": "markdown",
   "metadata": {
    "collapsed": false,
    "pycharm": {
     "name": "#%% md\n"
    }
   },
   "source": [
    " [The North Dakota Legislative Branch](https://www.ndlegis.gov/legislative-histories/session-laws) stores all session laws of North Dakota since 1862.\n",
    "\n",
    "![North DakotaLegislature](pics/nd_web.png)\n"
   ]
  },
  {
   "cell_type": "markdown",
   "metadata": {
    "collapsed": false,
    "pycharm": {
     "name": "#%% md\n"
    }
   },
   "source": [
    "## Import libraries\n",
    "As introduced in the chapter 1, we need to import some libraries as follows."
   ]
  },
  {
   "cell_type": "code",
   "execution_count": null,
   "metadata": {
    "collapsed": false,
    "pycharm": {
     "name": "#%%\n"
    }
   },
   "outputs": [],
   "source": [
    "import time\n",
    "from selenium import webdriver\n",
    "from selenium.webdriver.common.by import By\n",
    "from selenium.webdriver.support.ui import WebDriverWait\n",
    "from selenium.webdriver.support import expected_conditions as EC\n",
    "from selenium.webdriver.support.ui import Select\n",
    "from time import sleep\n",
    "import pandas as pd\n",
    "import datefinder\n",
    "import calendar\n",
    "import os\n",
    "import unittest\n",
    "from random import randint\n",
    "import PyPDF2\n",
    "import glob\n",
    "import pickle\n",
    "import numpy as np\n",
    "import fitz"
   ]
  },
  {
   "cell_type": "markdown",
   "metadata": {
    "collapsed": false,
    "pycharm": {
     "name": "#%% md\n"
    }
   },
   "source": [
    "## Browser setup\n",
    "\n",
    "Before scraping, we need to set up the browser. Here we use ChromeDriver for Google Chrome. You can download ChromeDriver from https://chromedriver.chromium.org/downloads following the version of Google Chrome you use on your laptop."
   ]
  },
  {
   "cell_type": "code",
   "execution_count": null,
   "metadata": {
    "collapsed": false,
    "pycharm": {
     "name": "#%%\n"
    }
   },
   "outputs": [],
   "source": [
    "driver_path = 'yourpath/driver'\n",
    "\n",
    "# Change the working directory to your path on your computer\n",
    "os.chdir('yourpath')\n",
    "\n",
    "# Get the working directory\n",
    "cwd = os.getcwd()\n",
    "# Print the current working directory\n",
    "print(\"Current working directory: {0}\".format(cwd))\n",
    "\n",
    "# Set up the driver\n",
    "chromeOptions = webdriver.ChromeOptions()\n",
    "dnldpath = {\"download.default_directory\": \"your_download_path\"}\n",
    "chromeOptions.add_experimental_option('prefs', {\n",
    "    \"download.default_directory\": dnldpath,  #Change default directory for downloads\n",
    "    \"download.prompt_for_download\": False,  #To auto download the file\n",
    "    \"download.directory_upgrade\": True,\n",
    "    \"plugins.always_open_pdf_externally\": True,  #It will not show PDF directly in chrome\n",
    "    \"--enable-javascript\": True\n",
    "})\n",
    "# Open the driver\n",
    "driver = webdriver.Chrome(executable_path=driver_path, options=chromeOptions)"
   ]
  },
  {
   "cell_type": "markdown",
   "metadata": {
    "collapsed": false,
    "pycharm": {
     "name": "#%% md\n"
    }
   },
   "outputs": [],
   "source": [
    "## PDF file download"
   ]
  },
  {
   "cell_type": "code",
   "execution_count": null,
   "metadata": {
    "collapsed": false,
    "pycharm": {
     "name": "#%%\n"
    }
   },
   "outputs": [],
   "source": [
    "driver.get(\"https://www.ndlegis.gov/legislative-histories/session-laws\")\n",
    "\n",
    "urls = []\n",
    "sessionurls = []\n",
    "\n",
    "sessions = driver.find_elements_by_partial_link_text(\"Session Laws\")\n",
    "for session in sessions:\n",
    "    if int(session.text[:4]) > 1974:\n",
    "        print(session.text)\n",
    "        sessionurl = session.get_attribute('href')\n",
    "        print(sessionurl)\n",
    "        sessionurls.append(sessionurl)\n",
    "    else:\n",
    "        pass\n",
    "\n",
    "for sessionurl in sessionurls:\n",
    "    driver.get(sessionurl)\n",
    "    sleep(1)\n",
    "    driver.find_element_by_link_text(\"Chapter Categories\").click()\n",
    "    try:\n",
    "        chapters = driver.find_elements_by_css_selector('div > div > div > table > tbody > tr > td > p > a')\n",
    "        for chapter in chapters:\n",
    "            print(chapter.text)\n",
    "            if \"Resolutions\" in chapter.text:\n",
    "                pass\n",
    "            else:\n",
    "                url = chapter.get_attribute('href')\n",
    "                urls.append(url)\n",
    "                print(url)\n",
    "    except:\n",
    "        print(sessionurl)\n",
    "print(\"urls are done\")\n",
    "\n",
    "acttxts = []\n",
    "for idx, url in enumerate(urls):\n",
    "    driver.get(url)\n",
    "    sleep(1)\n",
    "    path = \"C:/Users/longy/OneDrive/Projects/AFRI/data/ND/\"\n",
    "    list_of_files = glob.glob(os.path.join(path, '*.pdf'))\n",
    "    latest_file = max(list_of_files, key=os.path.getctime)\n",
    "    print(latest_file)\n",
    "    with open(os.path.join(os.getcwd(), latest_file), 'r') as f:  # open in readonly mode\n",
    "        # creating a pdf File object of original pdf\n",
    "        pdfFileObj = open(latest_file, 'rb')\n",
    "        pdfReader = PyPDF2.PdfFileReader(pdfFileObj)\n",
    "        pagenumber = pdfReader.numPages\n",
    "        acttxt = []\n",
    "        pgtxts = []\n",
    "        for p in range(pagenumber):\n",
    "            pageObj = pdfReader.getPage(p)\n",
    "            pgtxt = pageObj.extractText()\n",
    "            pgtxts.append(pgtxt)\n",
    "            acttxt = '\\n'.join(pgtxts)\n",
    "    acttxts.append(acttxt)"
   ]
  },
  {
   "cell_type": "markdown",
   "metadata": {
    "collapsed": false,
    "pycharm": {
     "name": "#%% md\n"
    }
   },
   "source": [
    "## Text extraction and saving\n",
    "\n",
    "In this section, we used the below code to extract all full texts from PDF files and save all act full texts into several format files including excel, csv, pickle and json."
   ]
  },
  {
   "cell_type": "code",
   "execution_count": null,
   "metadata": {
    "collapsed": false,
    "pycharm": {
     "name": "#%%\n"
    }
   },
   "outputs": [],
   "source": [
    "path = \"your_download_path\"\n",
    "files = glob.glob(os.path.join(path, '*.pdf'))\n",
    "acttxts = []\n",
    "for file in files:\n",
    "    doc = fitz.open(file)\n",
    "    pgtxts = []\n",
    "    for page in doc:\n",
    "        pgtxt = page.get_text()\n",
    "        pgtxts.append(pgtxt)\n",
    "        acttxt = ' '.join(pgtxts)\n",
    "    acttxts.append(acttxt)\n",
    "    doc.close()\n",
    "\n",
    "datasource = pd.DataFrame({\n",
    "    'Full text': acttxts\n",
    "})\n",
    "\n",
    "# save bill info into files\n",
    "datasource.to_excel('ND_Leginfo.xlsx')\n",
    "datasource.to_csv('ND_Leginfo.csv')\n",
    "datasource.to_pickle('ND_Leginfo.pkl')\n",
    "datasource.to_json('ND_Leginfo.json')"
   ]
  }
 ],
 "metadata": {
  "kernelspec": {
   "display_name": "py39",
   "language": "python",
   "name": "python3"
  },
  "language_info": {
   "codemirror_mode": {
    "name": "ipython",
    "version": 3
   },
   "file_extension": ".py",
   "mimetype": "text/x-python",
   "name": "python",
   "nbconvert_exporter": "python",
   "pygments_lexer": "ipython3",
   "version": "3.9.12 (main, Jun  1 2022, 06:36:29) \n[Clang 12.0.0 ]"
  },
  "vscode": {
   "interpreter": {
    "hash": "72db359963b886546324fdab9aa5857888ab40de550209afc182f1efe35e5205"
   }
  }
 },
 "nbformat": 4,
 "nbformat_minor": 0
}