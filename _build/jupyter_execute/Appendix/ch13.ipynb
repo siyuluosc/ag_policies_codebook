{
 "cells": [
  {
   "cell_type": "markdown",
   "metadata": {
    "collapsed": false,
    "pycharm": {
     "name": "#%% md\n"
    }
   },
   "source": [
    "# Ch 13 Georgia"
   ]
  },
  {
   "cell_type": "markdown",
   "metadata": {
    "collapsed": false,
    "pycharm": {
     "name": "#%% md\n"
    }
   },
   "source": [
    "[Georgia General Assembly Website](https://www.legis.ga.gov/legislation/all) stores acts from 2001. The web address is https://www.legis.ga.gov/legislation/all. Georgia General Assembly Website provides Legislation Search shown as below. We can get all acts through File Transfer Protocol (FTP) and download all act PDF files into a local folder by hand.The main task is extract full act texts from all PDF files.\n",
    "![Connecticut General Assembly](pics/ga_web.png)"
   ]
  },
  {
   "cell_type": "markdown",
   "metadata": {
    "collapsed": false,
    "pycharm": {
     "name": "#%% md\n"
    }
   },
   "source": [
    "## import libraries\n",
    "As introduced in the chapter 1, we need to import some libraries as follows."
   ]
  },
  {
   "cell_type": "code",
   "execution_count": 1,
   "metadata": {
    "collapsed": false,
    "pycharm": {
     "name": "#%%\n"
    }
   },
   "outputs": [
    {
     "ename": "ModuleNotFoundError",
     "evalue": "No module named 'selenium'",
     "output_type": "error",
     "traceback": [
      "\u001b[0;31m---------------------------------------------------------------------------\u001b[0m",
      "\u001b[0;31mModuleNotFoundError\u001b[0m                       Traceback (most recent call last)",
      "Cell \u001b[0;32mIn[1], line 2\u001b[0m\n\u001b[1;32m      1\u001b[0m \u001b[38;5;28;01mimport\u001b[39;00m \u001b[38;5;21;01mtime\u001b[39;00m\n\u001b[0;32m----> 2\u001b[0m \u001b[38;5;28;01mfrom\u001b[39;00m \u001b[38;5;21;01mselenium\u001b[39;00m \u001b[38;5;28;01mimport\u001b[39;00m webdriver\n\u001b[1;32m      3\u001b[0m \u001b[38;5;28;01mfrom\u001b[39;00m \u001b[38;5;21;01mselenium\u001b[39;00m\u001b[38;5;21;01m.\u001b[39;00m\u001b[38;5;21;01mwebdriver\u001b[39;00m\u001b[38;5;21;01m.\u001b[39;00m\u001b[38;5;21;01mcommon\u001b[39;00m\u001b[38;5;21;01m.\u001b[39;00m\u001b[38;5;21;01mby\u001b[39;00m \u001b[38;5;28;01mimport\u001b[39;00m By\n\u001b[1;32m      4\u001b[0m \u001b[38;5;28;01mfrom\u001b[39;00m \u001b[38;5;21;01mselenium\u001b[39;00m\u001b[38;5;21;01m.\u001b[39;00m\u001b[38;5;21;01mwebdriver\u001b[39;00m\u001b[38;5;21;01m.\u001b[39;00m\u001b[38;5;21;01msupport\u001b[39;00m\u001b[38;5;21;01m.\u001b[39;00m\u001b[38;5;21;01mui\u001b[39;00m \u001b[38;5;28;01mimport\u001b[39;00m WebDriverWait\n",
      "\u001b[0;31mModuleNotFoundError\u001b[0m: No module named 'selenium'"
     ]
    }
   ],
   "source": [
    "import time\n",
    "from selenium import webdriver\n",
    "from selenium.webdriver.common.by import By\n",
    "from selenium.webdriver.support.ui import WebDriverWait\n",
    "from selenium.webdriver.support import expected_conditions as EC\n",
    "from selenium.webdriver.support.ui import Select\n",
    "from time import sleep\n",
    "import pandas as pd\n",
    "import datefinder\n",
    "import calendar\n",
    "import os\n",
    "import unittest\n",
    "from random import randint\n",
    "import PyPDF2\n",
    "import glob\n",
    "import pickle\n",
    "import numpy as np\n",
    "import fitz"
   ]
  },
  {
   "cell_type": "markdown",
   "metadata": {
    "collapsed": false,
    "pycharm": {
     "name": "#%% md\n"
    }
   },
   "source": [
    "## Browser setup\n",
    "\n",
    "Before scraping, we need to set up the browser. Here we use ChromeDriver for Google Chrome. You can download ChromeDriver from https://chromedriver.chromium.org/downloads following the version of Google Chrome you use on your laptop."
   ]
  },
  {
   "cell_type": "code",
   "execution_count": null,
   "metadata": {
    "collapsed": false,
    "pycharm": {
     "name": "#%%\n"
    }
   },
   "outputs": [],
   "source": [
    "driver_path = '/yourpath/driver'\n",
    "\n",
    "# Change the working directory to your path on your computer\n",
    "os.chdir('/yourpath/')\n",
    "\n",
    "# Get the working directory\n",
    "cwd = os.getcwd()\n",
    "# Print the current working directory\n",
    "print(\"Current working directory: {0}\".format(cwd))\n",
    "\n",
    "# Set up the driver\n",
    "chromeOptions = webdriver.ChromeOptions()\n",
    "dnldpath = {\"download.default_directory\": \"/your_download_path\"}\n",
    "chromeOptions.add_experimental_option('prefs', {\n",
    "    \"download.default_directory\": dnldpath,  #Change default directory for downloads\n",
    "    \"download.prompt_for_download\": False,  #To auto download the file\n",
    "    \"download.directory_upgrade\": True,\n",
    "    \"plugins.always_open_pdf_externally\": True,  #It will not show PDF directly in chrome\n",
    "    \"--enable-javascript\": True\n",
    "})\n",
    "# Open the driver\n",
    "driver = webdriver.Chrome(executable_path=driver_path, options=chromeOptions)"
   ]
  },
  {
   "cell_type": "markdown",
   "metadata": {
    "collapsed": false,
    "pycharm": {
     "name": "#%% md\n"
    }
   },
   "source": [
    "## PDF file download\n",
    "\n",
    "### Get all act urls first."
   ]
  },
  {
   "cell_type": "code",
   "execution_count": null,
   "metadata": {
    "collapsed": false,
    "pycharm": {
     "name": "#%%\n"
    }
   },
   "outputs": [],
   "source": [
    "yrs = []\n",
    "sts = []\n",
    "seyrs = []\n",
    "titles = []\n",
    "bfsums = []\n",
    "introdts = []\n",
    "sigdts = []\n",
    "effdts = []\n",
    "epddtes = []\n",
    "introducers = []\n",
    "txtlks = []\n",
    "acttxts = []\n",
    "stas = []\n",
    "hoscoms = []  # house committee\n",
    "sponsors = []\n",
    "sessions =[]\n",
    "urls = []\n",
    "billnums = []\n",
    "\n",
    "WebDriverWait(driver, 300).until(\n",
    "    EC.presence_of_element_located((By.CSS_SELECTOR, \"#session > option\"))\n",
    ")\n",
    "\n",
    "# select all sessions except 2013-2024 session\n",
    "all_sessions = driver.find_elements_by_css_selector('#session > option')\n",
    "session_list = all_sessions[1:]\n",
    "\n",
    "for index, i in enumerate(session_list):\n",
    "    WebDriverWait(driver, 300).until(\n",
    "        EC.presence_of_element_located((By.CSS_SELECTOR, \"#session > option\"))\n",
    "    )\n",
    "    all_sessions = driver.find_elements_by_css_selector('#session > option')\n",
    "    session_list = all_sessions[1:]\n",
    "    session_list[index].click()\n",
    "    session = session_list[index].text\n",
    "    print(session)\n",
    "\n",
    "    search_btn = driver.find_element_by_css_selector('button.btn.btn-primary')\n",
    "    search_btn.click()\n",
    "\n",
    "    sleep(2)\n",
    "\n",
    "    try:\n",
    "        WebDriverWait(driver, 3).until(\n",
    "            EC.presence_of_element_located((By.CSS_SELECTOR, 'div.noResults'))\n",
    "        )\n",
    "        driver.find_element_by_css_selector('div.noResults')\n",
    "        print(\"No results found\")\n",
    "    except:\n",
    "        WebDriverWait(driver, 300).until(\n",
    "            EC.presence_of_element_located((By.CSS_SELECTOR, \"div.resultCount b:nth-child(2)\"))\n",
    "        )\n",
    "        total_bills = driver.find_element_by_css_selector('div.resultCount b:nth-child(2)').text\n",
    "\n",
    "        if int(total_bills) % 20 == 0:\n",
    "            total_pages = int(int(total_bills)/20)\n",
    "        else:\n",
    "            total_pages = int(int(total_bills)/20)+1\n",
    "        print(total_pages)\n",
    "\n",
    "        for page in range(total_pages):\n",
    "            WebDriverWait(driver, 300).until(\n",
    "                EC.presence_of_element_located((By.CSS_SELECTOR, \".text-nowrap\"))\n",
    "            )\n",
    "            bill_list = driver.find_elements_by_css_selector('.text-nowrap')\n",
    "            for bill in bill_list:\n",
    "                url = bill.get_attribute('href')\n",
    "                urls.append(url)\n",
    "                billnum = bill.text\n",
    "                billnums.append(billnum)\n",
    "                sessions.append(session)\n",
    "            print(\"page\",page+1)\n",
    "\n",
    "            if total_pages > 0:\n",
    "                WebDriverWait(driver, 300).until(\n",
    "                    EC.presence_of_element_located((By.CSS_SELECTOR, \"ul > li:last-child > a > span\"))\n",
    "                )\n",
    "                next_page = driver.find_element_by_css_selector('ul > li:last-child > a > span')\n",
    "                try:\n",
    "                    next_page.click()\n",
    "                    sleep(1)\n",
    "                except:\n",
    "                    print(\"this session is done for urls\")\n",
    "            else:\n",
    "                print(\"this session is done for urls\")"
   ]
  },
  {
   "cell_type": "markdown",
   "metadata": {
    "collapsed": false,
    "pycharm": {
     "name": "#%% md\n"
    }
   },
   "source": [
    "### Downlowd all act PDF files"
   ]
  },
  {
   "cell_type": "code",
   "execution_count": null,
   "metadata": {
    "collapsed": false,
    "pycharm": {
     "name": "#%%\n"
    }
   },
   "outputs": [],
   "source": [
    "for idx,url in enumerate(urls):\n",
    "    driver.get(url)\n",
    "    sleep(1)\n",
    "\n",
    "    version_btn =driver.find_elements_by_css_selector('li.list-inline-item')\n",
    "    version_btn[0].click()\n",
    "\n",
    "    WebDriverWait(driver, 60).until(\n",
    "        EC.presence_of_element_located((By.CSS_SELECTOR, \"div.col-6.justify-content-end.text-right > button\"))\n",
    "    )\n",
    "    dnldbtn = driver.find_element_by_class_name('btn.btn-outline-primary.btn-sm.mr-2.mb-1')\n",
    "    dnldbtn.click()\n",
    "print(\"Download finished\")"
   ]
  },
  {
   "cell_type": "markdown",
   "metadata": {
    "collapsed": false,
    "pycharm": {
     "name": "#%% md\n"
    }
   },
   "source": [
    "## Text extraction and saving\n",
    "\n",
    "In this section, we used the below code to extract all full texts from PDF files and save all act full texts into several format files including excel, csv, pickle and json."
   ]
  },
  {
   "cell_type": "code",
   "execution_count": null,
   "metadata": {
    "collapsed": false,
    "pycharm": {
     "name": "#%%\n"
    }
   },
   "outputs": [],
   "source": [
    "path = \"/Users/long/Library/CloudStorage/OneDrive-Personal/Projects/AFRI/data/GA\"\n",
    "files = glob.glob(os.path.join(path, '*.pdf'))\n",
    "\n",
    "acttxts = []\n",
    "pgtxts = []\n",
    "badfiles = []\n",
    "for file in files:\n",
    "    try:\n",
    "        doc = fitz.open(file)\n",
    "        pgtxts = []\n",
    "        for page in doc:\n",
    "            pgtxt = page.get_text()\n",
    "            pgtxts.append(pgtxt)\n",
    "            acttxt = ' '.join(pgtxts)\n",
    "        acttxts.append(acttxt)\n",
    "        doc.close()\n",
    "    except:\n",
    "        print(file)\n",
    "        badfiles.append(file)\n",
    "\n",
    "datasource = pd.DataFrame({\n",
    "    'Full text': acttxts\n",
    "})\n",
    "\n",
    "datasource.drop_duplicates(subset=['Full text'],\n",
    "                           keep='first', inplace=True, ignore_index=True)\n",
    "\n",
    "datasource.to_excel('GA_Leginfo.xlsx')\n",
    "datasource.to_csv('GA_Leginfo.csv')\n",
    "datasource.to_pickle('GA_Leginfo.pkl')\n",
    "datasource.to_json('GA_Leginfo.json')"
   ]
  }
 ],
 "metadata": {
  "kernelspec": {
   "display_name": "py39",
   "language": "python",
   "name": "python3"
  },
  "language_info": {
   "codemirror_mode": {
    "name": "ipython",
    "version": 3
   },
   "file_extension": ".py",
   "mimetype": "text/x-python",
   "name": "python",
   "nbconvert_exporter": "python",
   "pygments_lexer": "ipython3",
   "version": "3.10.12"
  },
  "vscode": {
   "interpreter": {
    "hash": "72db359963b886546324fdab9aa5857888ab40de550209afc182f1efe35e5205"
   }
  }
 },
 "nbformat": 4,
 "nbformat_minor": 0
}