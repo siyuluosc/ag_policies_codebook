{
 "cells": [
  {
   "cell_type": "markdown",
   "metadata": {
    "pycharm": {
     "name": "#%% md\n"
    }
   },
   "source": [
    "# Chapter 2 Data Collection"
   ]
  },
  {
   "cell_type": "markdown",
   "metadata": {
    "collapsed": false,
    "pycharm": {
     "name": "#%% md\n"
    }
   },
   "source": [
    "In this chapter, we introduce the process of data collection. For state-level legislative data, we utilize web scraping tools. The text outlines two general methods for web scraping legislative data, with detailed instructions for each state and Washington, D.C. provided in the appendix.\n",
    "\n",
    "## 2.1 Tools\n",
    "\n",
    "Python is a programming language that lets you work more quickly and integrate your systems more effectively (https://www.python.org/).\n",
    "\n",
    "## IDEs\n",
    "\n",
    "An IDE (Integrated Development Environment) understand your code much better than a text editor. It usually provides features such as build automation, code linting, testing and debugging. This can significantly speed up your work. The downside is that IDEs can be complicated to use. There are several IDEs that users can consider. Here we recommend PyCharm or Visual Studio Code. You can download them from JetBrains' website https://www.jetbrains.com/pycharm/ or Visual Studio Code' websites https://code.visualstudio.com/. \n"
   ]
  },
  {
   "cell_type": "markdown",
   "metadata": {
    "collapsed": false,
    "pycharm": {
     "name": "#%% md\n"
    }
   },
   "source": [
    "\n",
    "## Libraries\n",
    "\n",
    "A Python library, like packages in R, is a reusable chunk of code to save time. Several useful libraries are needed to install for Python to run this script.\n",
    "\n",
    "Selenium is a powerful web scraping tool by automating browsers to load the target website, retrieve the required data, and take screenshots or assert that certain actions happen on the website. This script relies heavily on Selenium. In addition to Selenium, we also need to import other necessary packages such as pandas,time, os, PyPDF2, glob, pick"
   ]
  },
  {
   "cell_type": "code",
   "execution_count": 1,
   "metadata": {
    "collapsed": false,
    "pycharm": {
     "name": "#%%\n"
    }
   },
   "outputs": [
    {
     "ename": "ModuleNotFoundError",
     "evalue": "No module named 'selenium'",
     "output_type": "error",
     "traceback": [
      "\u001b[0;31m---------------------------------------------------------------------------\u001b[0m",
      "\u001b[0;31mModuleNotFoundError\u001b[0m                       Traceback (most recent call last)",
      "Cell \u001b[0;32mIn[1], line 2\u001b[0m\n\u001b[1;32m      1\u001b[0m \u001b[38;5;66;03m# import libraries\u001b[39;00m\n\u001b[0;32m----> 2\u001b[0m \u001b[38;5;28;01mfrom\u001b[39;00m \u001b[38;5;21;01mselenium\u001b[39;00m \u001b[38;5;28;01mimport\u001b[39;00m webdriver\n\u001b[1;32m      3\u001b[0m \u001b[38;5;28;01mfrom\u001b[39;00m \u001b[38;5;21;01mselenium\u001b[39;00m\u001b[38;5;21;01m.\u001b[39;00m\u001b[38;5;21;01mwebdriver\u001b[39;00m\u001b[38;5;21;01m.\u001b[39;00m\u001b[38;5;21;01mcommon\u001b[39;00m\u001b[38;5;21;01m.\u001b[39;00m\u001b[38;5;21;01mby\u001b[39;00m \u001b[38;5;28;01mimport\u001b[39;00m By\n\u001b[1;32m      4\u001b[0m \u001b[38;5;28;01mfrom\u001b[39;00m \u001b[38;5;21;01mselenium\u001b[39;00m\u001b[38;5;21;01m.\u001b[39;00m\u001b[38;5;21;01mwebdriver\u001b[39;00m\u001b[38;5;21;01m.\u001b[39;00m\u001b[38;5;21;01msupport\u001b[39;00m\u001b[38;5;21;01m.\u001b[39;00m\u001b[38;5;21;01mui\u001b[39;00m \u001b[38;5;28;01mimport\u001b[39;00m WebDriverWait\n",
      "\u001b[0;31mModuleNotFoundError\u001b[0m: No module named 'selenium'"
     ]
    }
   ],
   "source": [
    "# import libraries\n",
    "from selenium import webdriver\n",
    "from selenium.webdriver.common.by import By\n",
    "from selenium.webdriver.support.ui import WebDriverWait\n",
    "from selenium.webdriver.support import expected_conditions as EC\n",
    "from selenium.webdriver.support.ui import Select\n",
    "import time\n",
    "from time import sleep\n",
    "import pandas as pd\n",
    "import datefinder\n",
    "import calendar\n",
    "import os\n",
    "import unittest\n",
    "from random import randint\n",
    "import PyPDF2\n",
    "import glob\n",
    "import pickle\n",
    "import numpy as np\n",
    "import fitz"
   ]
  },
  {
   "cell_type": "markdown",
   "metadata": {},
   "source": [
    "Our goal is to webscrape all session laws during 1975-2022 from state-level legislature websites. The General and Special Laws of Texas, often referred to as the \"session laws,\" constitute a complete set of all bills passed into law by each session of the state legislature.Session laws are organized into chapters, with each chapter consisting of a single \"Act,\" or bill. As bills are passed into law during a legislative session, the Secretary of State assigns each Act a corresponding chapter number."
   ]
  },
  {
   "cell_type": "markdown",
   "metadata": {},
   "source": [
    "| Name\t    | FIPS State Numeric Code\t  |Official USPS Code\t| Website Address|\n",
    "|----------|---------------------------|---------------------:|------------------------------:|\n",
    "|Alabama|1|AL|https://arc-sos.state.al.us/CGI/actyear.mbr/input|\n",
    "|Alaska|2|AK|http://www.akleg.gov/basis/Home/BillsandLaws|\n",
    "|Arizona|4|AZ|https://apps.azleg.gov/BillStatus/BillOverview?Sessionid=123|\n",
    "|Arkansas|5|AR|https://www.arkleg.state.ar.us/Acts/|\n",
    "|California|6|CA|https://leginfo.legislature.ca.gov/faces/home.xhtml|\n",
    "|Colorado|8|CO|https://leg.colorado.gov/bills|\n",
    "|Connecticut|9|CT|https://www.cga.ct.gov/asp/menu/legdownload.asp|\n",
    "|Delaware|10|DE|https://legis.delaware.gov/AllLegislation|\n",
    "|District of Columbia|11|DC|https://lims.dccouncil.us/searchresult/|\n",
    "|Florida|12|FL|http://www.leg.state.fl.us/Welcome/index.cfm|\n",
    "|Georgia|13|GA|https://www.legis.ga.gov/legislation/all|\n",
    "|Hawaii|15|HI|https://www.capitol.hawaii.gov/|\n",
    "|Idaho|16|ID|https://legislature.idaho.gov/statutesrules/sessionlaws/|\n",
    "|Illinois|17|IL|https://www.ilga.gov/previousga.asp|\n",
    "|Indiana|18|IN|http://iga.in.gov/results/#|\n",
    "|Iowa|19|IA|https://www.legis.iowa.gov/legislation/billTracking|\n",
    "|Kansas|20|KS|http://www.kslegislature.org/li/historical/|\n",
    "|Kentucky|21|KY|https://legislature.ky.gov/Law/Pages/KyActs.aspx|\n",
    "|Louisiana|22|LA|https://www.legis.la.gov/Legis/SessionInfo/SessionInfo.aspx|\n",
    "|Maine|23|ME|https://legislature.maine.gov/ros/LOM/LOMpdfDirectory.htm|\n",
    "|Maryland|24|MD|http://mgaleg.maryland.gov/mgawebsite/Search/FullText|\n",
    "|Massachusetts|25|MA|https://malegislature.gov/Laws/SessionLaws|\n",
    "|Michigan|26|MI|https://www.legislature.mi.gov/|\n",
    "|Minnesota|27|MN|https://www.revisor.mn.gov/search/?search=stat|\n",
    "|Mississippi|28|MS|http://billstatus.ls.state.ms.us/sessions.htm|\n",
    "|Missouri|29|MO|https://house.mo.gov/LegislationSP.aspx?focusedID=Bill%20List|\n",
    "|Montana|30|MT|http://laws.leg.mt.gov/legprd/law0203w$.startup?P_SESS=19991|\n",
    "|Nebraska|31|NE|https://nebraskalegislature.gov/laws/laws.php|\n",
    "|Nevada|32|NV|https://www.leg.state.nv.us/Site/Search/search.cfm|\n",
    "|New Hampshire|33|NH|http://www.gencourt.state.nh.us/bill_status/legacy/bs2016/|\n",
    "|New Jersey|34|NJ|https://www.njleg.state.nj.us/bills/Bills_ADVS.aspx#|\n",
    "|New Mexico|35|NM|https://www.nmlegis.gov/Search|\n",
    "|New York|36|NY|https://nyassembly.gov/leg/?sh=advanced|\n",
    "|North Carolina|37|NC|https://www.ncleg.gov/Search/BillText/|\n",
    "|North Dakota|38|ND|https://www.legis.nd.gov/search|\n",
    "|Ohio|39|OH|https://www.legislature.ohio.gov/legislation/search/|\n",
    "|Oklahoma|40|OK|http://www.oklegislature.gov/AdvancedSearchForm.aspx|\n",
    "|Oregon|41|OR|https://www.oregonlegislature.gov/bills_laws/Pages/Oregon-Laws.aspx|\n",
    "|Pennsylvania|42|PA|https://www.legis.state.pa.us/cfdocs/legis/home/bills/|\n",
    "|Rhode Island|44|RI|http://webserver.rilegislature.gov/search/|\n",
    "|South Carolina|45|SC|https://www.scstatehouse.gov/query.php|\n",
    "|South Dakota|46|SD|https://sdlegislature.gov/Statutes/Archived|\n",
    "|Tennessee|47|TN|https://www.capitol.tn.gov/legislation/archives.html|\n",
    "|Texas|48|TX|https://lrl.texas.gov/legis/billsearch/lrlhome.cfm|\n",
    "|Utah|49|UT|https://le.utah.gov/asp/passedbills/passedbills.asp|\n",
    "|Vermont|50|VT|https://legislature.vermont.gov/bill/search/2022|\n",
    "|Virginia|51|VA|https://lis.virginia.gov/cgi-bin/legp604.exe?941+men+BIL|\n",
    "|Washington|53|WA|http://search.leg.wa.gov/search.aspx#document|\n",
    "|West Virginia|54|WV|https://www.wvlegislature.gov/Bill_Status/bill_status.cfm|\n",
    "|Wisconsin|55|WI|https://docs.legis.wisconsin.gov/search|\n",
    "|Wyoming|56|WY|https://www.wyoleg.gov/Legislation/archives|\n",
    "Since each state-level legislature website has different website structure, we adopted three different webscraping strategies: (i) direct webscraping, (ii) downloading act PDF files and extraction, and (iii) mixing them.\n",
    "\n",
    "## Direct Webscraping\n",
    "\n",
    "Some legislature websites store acts on their websites as html files or PDF files. So, we can webscrape acts' full texts directly.\n",
    "\n",
    "![](pics/ca.png)\n"
   ]
  }
 ],
 "metadata": {
  "kernelspec": {
   "display_name": "py39",
   "language": "python",
   "name": "python3"
  },
  "language_info": {
   "codemirror_mode": {
    "name": "ipython",
    "version": 3
   },
   "file_extension": ".py",
   "mimetype": "text/x-python",
   "name": "python",
   "nbconvert_exporter": "python",
   "pygments_lexer": "ipython3",
   "version": "3.12.4"
  },
  "vscode": {
   "interpreter": {
    "hash": "72db359963b886546324fdab9aa5857888ab40de550209afc182f1efe35e5205"
   }
  },
  "widgets": {
   "application/vnd.jupyter.widget-state+json": {
    "state": {},
    "version_major": 2,
    "version_minor": 0
   }
  }
 },
 "nbformat": 4,
 "nbformat_minor": 4
}