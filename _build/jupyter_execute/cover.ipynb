{
 "cells": [
  {
   "cell_type": "code",
   "execution_count": 1,
   "id": "initial_id",
   "metadata": {
    "collapsed": true
   },
   "outputs": [
    {
     "ename": "SyntaxError",
     "evalue": "invalid syntax (2277114333.py, line 1)",
     "output_type": "error",
     "traceback": [
      "\u001b[0;36m  Cell \u001b[0;32mIn[1], line 1\u001b[0;36m\u001b[0m\n\u001b[0;31m    Codebook for State-Level Policies Affecting Agricultural Costs and Revenues in the US (1975-2021)\u001b[0m\n\u001b[0m             ^\u001b[0m\n\u001b[0;31mSyntaxError\u001b[0m\u001b[0;31m:\u001b[0m invalid syntax\n"
     ]
    }
   ],
   "source": [
    "Codebook for State-Level Policies Affecting Agricultural Costs and Revenues in the US (1975-2021)\n",
    "Data, Patterns, and Correlates"
   ]
  },
  {
   "cell_type": "markdown",
   "id": "335208fb0298a558",
   "metadata": {},
   "source": [
    "Marc F. Bellemare, Galina Hale, Yanxu Long, and Siyu Luo"
   ]
  },
  {
   "cell_type": "markdown",
   "id": "a1038a9054a6e504",
   "metadata": {},
   "source": [
    "![wordcloud](pics/booklogo.png)"
   ]
  },
  {
   "cell_type": "code",
   "execution_count": null,
   "id": "1cb633866c798e8c",
   "metadata": {
    "jupyter": {
     "is_executing": true
    }
   },
   "outputs": [],
   "source": []
  }
 ],
 "metadata": {
  "kernelspec": {
   "display_name": "Python 3",
   "language": "python",
   "name": "python3"
  },
  "language_info": {
   "codemirror_mode": {
    "name": "ipython",
    "version": 3
   },
   "file_extension": ".py",
   "mimetype": "text/x-python",
   "name": "python",
   "nbconvert_exporter": "python",
   "pygments_lexer": "ipython3",
   "version": "3.10.12"
  }
 },
 "nbformat": 4,
 "nbformat_minor": 5
}