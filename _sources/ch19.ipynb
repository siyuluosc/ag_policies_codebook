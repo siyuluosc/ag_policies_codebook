{
 "cells": [
  {
   "cell_type": "markdown",
   "source": [
    "# Ch 19 Kansas\n",
    "\n",
    "The [Kansas Legislature Archival Website](https://www.kansas.gov/government/legislative/) stores the compilation of all Legislative bills enacted by a session of the Kansas Legislature, organized by chapter, from 1996 through 2010. The [Kansas Legislature](http://www.kslegislature.org/li_2022/historical/) stores all Legislative bills under *Bills and Sessions* since 2011.\n",
    "\n",
    "![Kansas Legislature Archival Website](pics/ks_ar.png)\n",
    "![Kansas Legislature Archival Website](pics/ks_leg.png)\n"
   ],
   "metadata": {
    "collapsed": false,
    "pycharm": {
     "name": "#%% md\n"
    }
   }
  },
  {
   "cell_type": "markdown",
   "source": [
    "## Import libraries\n",
    "As introduced in the chapter 1, we need to import some libraries as follows."
   ],
   "metadata": {
    "collapsed": false,
    "pycharm": {
     "name": "#%% md\n"
    }
   }
  },
  {
   "cell_type": "code",
   "execution_count": null,
   "outputs": [],
   "source": [
    "import time\n",
    "from selenium import webdriver\n",
    "from selenium.webdriver.common.by import By\n",
    "from selenium.webdriver.support.ui import WebDriverWait\n",
    "from selenium.webdriver.support import expected_conditions as EC\n",
    "from selenium.webdriver.support.ui import Select\n",
    "from time import sleep\n",
    "import pandas as pd\n",
    "import datefinder\n",
    "import calendar\n",
    "import os\n",
    "import unittest\n",
    "from random import randint\n",
    "import PyPDF2\n",
    "import glob\n",
    "import pickle\n",
    "import numpy as np\n",
    "import fitz"
   ],
   "metadata": {
    "collapsed": false,
    "pycharm": {
     "name": "#%%\n"
    }
   }
  },
  {
   "cell_type": "markdown",
   "source": [
    "## Browser setup\n",
    "\n",
    "Before scraping, we need to set up the browser. Here we use ChromeDriver for Google Chrome. You can download ChromeDriver from https://chromedriver.chromium.org/downloads following the version of Google Chrome you use on your laptop."
   ],
   "metadata": {
    "collapsed": false,
    "pycharm": {
     "name": "#%% md\n"
    }
   }
  },
  {
   "cell_type": "code",
   "execution_count": null,
   "outputs": [],
   "source": [
    "driver_path = 'yourpath/driver'\n",
    "\n",
    "# Change the working directory to your path on your computer\n",
    "os.chdir('yourpath')\n",
    "\n",
    "# Get the working directory\n",
    "cwd = os.getcwd()\n",
    "# Print the current working directory\n",
    "print(\"Current working directory: {0}\".format(cwd))\n",
    "\n",
    "# Set up the driver\n",
    "chromeOptions = webdriver.ChromeOptions()\n",
    "dnldpath = {\"download.default_directory\": \"your_download_path\"}\n",
    "chromeOptions.add_experimental_option('prefs', {\n",
    "    \"download.default_directory\": dnldpath,  #Change default directory for downloads\n",
    "    \"download.prompt_for_download\": False,  #To auto download the file\n",
    "    \"download.directory_upgrade\": True,\n",
    "    \"plugins.always_open_pdf_externally\": True,  #It will not show PDF directly in chrome\n",
    "    \"--enable-javascript\": True\n",
    "})\n",
    "# Open the driver\n",
    "driver = webdriver.Chrome(executable_path=driver_path, options=chromeOptions)"
   ],
   "metadata": {
    "collapsed": false,
    "pycharm": {
     "name": "#%%\n"
    }
   }
  },
  {
   "cell_type": "markdown",
   "source": [
    "## Direct webscraping and PDF file download"
   ],
   "metadata": {
    "collapsed": false,
    "pycharm": {
     "name": "#%% md\n"
    }
   }
  },
  {
   "cell_type": "code",
   "execution_count": null,
   "outputs": [],
   "source": [
    "urls = []\n",
    "acttxts = []\n",
    "\n",
    "for year in range(1996, 2004):\n",
    "    session_url = \"https://www.kansas.gov/government/legislative/sessionlaws/\" + str(year) + \"/\"\n",
    "    driver.get(session_url)\n",
    "    time.sleep(0.001)\n",
    "    WebDriverWait(driver, 60).until(\n",
    "        EC.presence_of_element_located((By.CSS_SELECTOR, \"#agency-content > table > tbody\"))\n",
    "    )\n",
    "    act_no = len(driver.find_elements_by_css_selector(\"#agency-content > table > tbody > tr > td:nth-child(1) > a\"))\n",
    "    for i in range(1, act_no + 1):\n",
    "        print(i)\n",
    "        url = \"https://www.kansas.gov/government/legislative/sessionlaws/\" + str(year) + \"/chap\" + str(i) + \".html\"\n",
    "        driver.get(url)\n",
    "        WebDriverWait(driver, 60).until(\n",
    "            EC.presence_of_element_located((By.CSS_SELECTOR, \"body\"))\n",
    "        )\n",
    "        acttxt = driver.find_element_by_css_selector(\"body\").text\n",
    "        acttxts.append(acttxt)\n",
    "\n",
    "for year in range(2004, 2011):\n",
    "    url = \"https://www.kansas.gov/government/legislative/sessionlaws/\" + str(year) + \"/\"\n",
    "    driver.get(url)\n",
    "    WebDriverWait(driver, 60).until(\n",
    "        EC.presence_of_element_located((By.CSS_SELECTOR, \"#agency-content\"))\n",
    "    )\n",
    "    acts = driver.find_elements_by_css_selector(\"#agency-content > table > tbody > tr > td:nth-child(1) > a\")\n",
    "    for act in acts:\n",
    "        act.click()\n",
    "        time.sleep(0.001)\n",
    "\n",
    "bill_urls = []\n",
    "\n",
    "for session_url in [\"http://www.kslegislature.org/li_2022/b2021_22/measures/bills/\",\n",
    "                    \"http://www.kslegislature.org/li_2021s/b2021s/measures/bills/\",\n",
    "                    \"http://www.kslegislature.org/li_2016s/b2015_16/measures/bills/\",\n",
    "                    \"http://www.kslegislature.org/li_2013s/b2013_14/measures/bills/\",\n",
    "                    \"http://www.kslegislature.org/li_2020s/b2020s/measures/bills/\",\n",
    "                    \"http://www.kslegislature.org/li_2020/b2019_20/measures/bills/\",\n",
    "                    \"http://www.kslegislature.org/li_2018/b2017_18/measures/bills/\",\n",
    "                    \"http://www.kslegislature.org/li_2016/b2015_16/measures/bills/\",\n",
    "                    \"http://www.kslegislature.org/li_2014/b2013_14/measures/bills/\",\n",
    "                    \"http://www.kslegislature.org/li_2012/b2011_12/measures/bills/\"][:1]:\n",
    "    print(session_url)\n",
    "    driver.get(session_url)\n",
    "    time.sleep(1)\n",
    "    try:\n",
    "        page_no = driver.find_element_by_css_selector(\"#tab-disp\").text.split(\"of \")[1]\n",
    "        for page in range(1, int(page_no) + 1):\n",
    "            print(page)\n",
    "            page_url = \"http://www.kslegislature.org/li_2012/b2011_12/measures/bills/\" + \"#\" + str(page)\n",
    "            print(page_url)\n",
    "            driver.get(page_url)\n",
    "            time.sleep(0.01)\n",
    "            WebDriverWait(driver, 60).until(\n",
    "                EC.presence_of_element_located((By.CSS_SELECTOR, \"#bill-tab-1\"))\n",
    "            )\n",
    "            bills = driver.find_elements_by_css_selector(\"#bill-tab-1 > li a\")\n",
    "            for bill in bills:\n",
    "                bill_url = bill.get_attribute(\"href\")\n",
    "                bill_urls.append(bill_url)\n",
    "                print(bill_url)\n",
    "    except:\n",
    "        bills = driver.find_elements_by_css_selector(\"#bill-tab-1 > li a\")\n",
    "        for bill in bills:\n",
    "            bill_url = bill.get_attribute(\"href\")\n",
    "            bill_urls.append(bill_url)\n",
    "            print(bill_url)\n",
    "\n",
    "for index, bill_url in enumerate(bill_urls):\n",
    "    print(index)\n",
    "    driver.get(bill_url)\n",
    "    WebDriverWait(driver, 60).until(\n",
    "        EC.presence_of_element_located((By.CSS_SELECTOR, \"#version-tab-1 > tr\"))\n",
    "    )\n",
    "    check = driver.find_element_by_css_selector(\"#version-tab-1 > tr\").text\n",
    "    if \"Enrolled\" in check:\n",
    "        versions = driver.find_elements_by_css_selector(\"#version-tab-1 > tr\")\n",
    "        for version in versions:\n",
    "            version_text = version.find_element_by_css_selector(\"td:nth-child(1)\").text\n",
    "            print(version_text)\n",
    "            if \"Enrolled\" in version_text:\n",
    "                pdf = driver.find_element_by_css_selector(\"#version-tab-1 > tr:nth-child(1) > td:nth-child(2) > a\")\n",
    "                pdf.click()\n",
    "                time.sleep(0.01)"
   ],
   "metadata": {
    "collapsed": false,
    "pycharm": {
     "name": "#%%\n"
    }
   }
  },
  {
   "cell_type": "markdown",
   "source": [
    "## Text extraction and saving\n",
    "\n",
    "In this section, we used the below code to extract all full texts from PDF files and save all act full texts into several format files including excel, csv, pickle and json."
   ],
   "metadata": {
    "collapsed": false,
    "pycharm": {
     "name": "#%% md\n"
    }
   }
  },
  {
   "cell_type": "code",
   "execution_count": null,
   "outputs": [],
   "source": [
    "acttxts = []\n",
    "path = \"your_download_path\"\n",
    "files = glob.glob(os.path.join(path, '*.pdf'))\n",
    "for file in files:\n",
    "    doc = fitz.open(file)\n",
    "    pgtxts = []\n",
    "    for page in doc:\n",
    "        pgtxt = page.get_text()\n",
    "        pgtxts.append(pgtxt)\n",
    "        acttxt = ' '.join(pgtxts)\n",
    "    acttxts.append(acttxt)\n",
    "    doc.close()\n",
    "\n",
    "datasource = pd.DataFrame({\n",
    "    'Full text': acttxts\n",
    "})\n",
    "\n",
    "datasource.drop_duplicates(subset=['Full text'],\n",
    "                           keep='first', inplace=True, ignore_index=True)\n",
    "\n",
    "# save all act info into files\n",
    "datasource.to_excel('KS_Leginfo.xlsx')\n",
    "datasource.to_csv('KS_Leginfo.csv')\n",
    "datasource.to_pickle('KS_Leginfo.pkl')\n",
    "datasource.to_json('KS_Leginfo.json')"
   ],
   "metadata": {
    "collapsed": false,
    "pycharm": {
     "name": "#%%\n"
    }
   }
  }
 ],
 "metadata": {
  "kernelspec": {
   "display_name": "py39",
   "language": "python",
   "name": "python3"
  },
  "language_info": {
   "codemirror_mode": {
    "name": "ipython",
    "version": 3
   },
   "file_extension": ".py",
   "mimetype": "text/x-python",
   "name": "python",
   "nbconvert_exporter": "python",
   "pygments_lexer": "ipython3",
   "version": "3.9.12 (main, Jun  1 2022, 06:36:29) \n[Clang 12.0.0 ]"
  },
  "vscode": {
   "interpreter": {
    "hash": "72db359963b886546324fdab9aa5857888ab40de550209afc182f1efe35e5205"
   }
  }
 },
 "nbformat": 4,
 "nbformat_minor": 0
}