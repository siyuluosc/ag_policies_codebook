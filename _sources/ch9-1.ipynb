{
 "cells": [
  {
   "cell_type": "markdown",
   "source": [
    "# Ch 9 Connecticut"
   ],
   "metadata": {
    "collapsed": false,
    "pycharm": {
     "name": "#%% md\n"
    }
   }
  },
  {
   "cell_type": "code",
   "execution_count": null,
   "outputs": [],
   "source": [
    "# import libraries\n",
    "from selenium import webdriver\n",
    "from selenium.webdriver.common.by import By\n",
    "from selenium.webdriver.support.ui import WebDriverWait\n",
    "from selenium.webdriver.support import expected_conditions as EC\n",
    "from selenium.webdriver.support.ui import Select\n",
    "from time import sleep\n",
    "import pandas as pd\n",
    "import datefinder\n",
    "import calendar\n",
    "import os\n",
    "import unittest\n",
    "from random import randint\n",
    "import PyPDF2\n",
    "import glob\n",
    "import pickle\n",
    "import fitz\n",
    "import time\n",
    "\n",
    "# driver_path = r'C:\\Users\\longy\\OneDrive\\Projects\\AFRI\\windows\\chromedriver.exe' #for windows\n",
    "driver_path = '/Users/long/OneDrive/Projects/AFRI/chromedriver'\n",
    "# driver = webdriver.Chrome(executable_path=DRIVER_PATH)\n",
    "\n",
    "# Change the working directory\n",
    "os.chdir('/Volumes/GoogleDrive/Shared drives/UCSC-UMN AFRI project/Data/Raw_Data/CT/')\n",
    "# os.chdir('C:/Users/longy/OneDrive/Projects/AFRI/')\n",
    "# Get the current working directory\n",
    "cwd = os.getcwd()\n",
    "# Print the current working directory\n",
    "print(\"Current working directory: {0}\".format(cwd))\n",
    "\n",
    "acttxts = []\n",
    "path = \"/Volumes/GoogleDrive/Shared drives/UCSC-UMN AFRI project/Data/Raw_Data/CT\"\n",
    "files = glob.glob(os.path.join(path, '*.pdf'))\n",
    "files.extend(glob.glob(os.path.join(path, '*.PDF')))\n",
    "for file in files:\n",
    "    doc = fitz.open(file)\n",
    "    pgtxts = []\n",
    "    for page in doc:\n",
    "        pgtxt = page.get_text()\n",
    "        pgtxts.append(pgtxt)\n",
    "        acttxt = ' '.join(pgtxts)\n",
    "    acttxts.append(acttxt)\n",
    "    doc.close()\n",
    "\n",
    "datasource = pd.DataFrame({\n",
    "    #'Link to full text':session_urls,\n",
    "    'Full text': acttxts\n",
    "})\n",
    "\n",
    "datasource.to_excel('CT_Leginfo.xlsx')\n",
    "datasource.to_csv('CT_Leginfo.csv')\n",
    "datasource.to_pickle('CT_Leginfo.pkl')\n",
    "datasource.to_json('CT_Leginfo.json')"
   ],
   "metadata": {
    "collapsed": false,
    "pycharm": {
     "name": "#%%\n"
    }
   }
  }
 ],
 "metadata": {
  "kernelspec": {
   "display_name": "Python 3",
   "language": "python",
   "name": "python3"
  },
  "language_info": {
   "codemirror_mode": {
    "name": "ipython",
    "version": 2
   },
   "file_extension": ".py",
   "mimetype": "text/x-python",
   "name": "python",
   "nbconvert_exporter": "python",
   "pygments_lexer": "ipython2",
   "version": "2.7.6"
  }
 },
 "nbformat": 4,
 "nbformat_minor": 0
}