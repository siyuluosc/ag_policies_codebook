{
 "cells": [
  {
   "attachments": {},
   "cell_type": "markdown",
   "metadata": {
    "collapsed": false,
    "pycharm": {
     "name": "#%% md\n"
    }
   },
   "source": [
    "# Ch 35 New York"
   ]
  },
  {
   "attachments": {},
   "cell_type": "markdown",
   "metadata": {
    "collapsed": false,
    "pycharm": {
     "name": "#%% md\n"
    }
   },
   "source": [
    " [The New York State Assembly website](https://nyassembly.gov/leg/?sh=advanced) stores all acts in New York State.\n",
    "\n",
    "![New York State Assembly](pics/ny_web.png)\n"
   ]
  },
  {
   "cell_type": "markdown",
   "metadata": {
    "collapsed": false,
    "pycharm": {
     "name": "#%% md\n"
    }
   },
   "source": [
    "## Import libraries\n",
    "As introduced in the chapter 1, we need to import some libraries as follows."
   ]
  },
  {
   "cell_type": "code",
   "execution_count": null,
   "metadata": {
    "collapsed": false,
    "pycharm": {
     "name": "#%%\n"
    }
   },
   "outputs": [],
   "source": [
    "import time\n",
    "from selenium import webdriver\n",
    "from selenium.webdriver.common.by import By\n",
    "from selenium.webdriver.support.ui import WebDriverWait\n",
    "from selenium.webdriver.support import expected_conditions as EC\n",
    "from selenium.webdriver.support.ui import Select\n",
    "from time import sleep\n",
    "import pandas as pd\n",
    "import datefinder\n",
    "import calendar\n",
    "import os\n",
    "import unittest\n",
    "from random import randint\n",
    "import PyPDF2\n",
    "import glob\n",
    "import pickle\n",
    "import numpy as np\n",
    "import fitz"
   ]
  },
  {
   "cell_type": "markdown",
   "metadata": {
    "collapsed": false,
    "pycharm": {
     "name": "#%% md\n"
    }
   },
   "source": [
    "## Browser setup\n",
    "\n",
    "Before scraping, we need to set up the browser. Here we use ChromeDriver for Google Chrome. You can download ChromeDriver from https://chromedriver.chromium.org/downloads following the version of Google Chrome you use on your laptop."
   ]
  },
  {
   "cell_type": "code",
   "execution_count": null,
   "metadata": {
    "collapsed": false,
    "pycharm": {
     "name": "#%%\n"
    }
   },
   "outputs": [],
   "source": [
    "driver_path = 'yourpath/driver'\n",
    "\n",
    "# Change the working directory to your path on your computer\n",
    "os.chdir('yourpath')\n",
    "\n",
    "# Get the working directory\n",
    "cwd = os.getcwd()\n",
    "# Print the current working directory\n",
    "print(\"Current working directory: {0}\".format(cwd))\n",
    "\n",
    "# Set up the driver\n",
    "chromeOptions = webdriver.ChromeOptions()\n",
    "dnldpath = {\"download.default_directory\": \"your_download_path\"}\n",
    "chromeOptions.add_experimental_option('prefs', {\n",
    "    \"download.default_directory\": dnldpath,  #Change default directory for downloads\n",
    "    \"download.prompt_for_download\": False,  #To auto download the file\n",
    "    \"download.directory_upgrade\": True,\n",
    "    \"plugins.always_open_pdf_externally\": True,  #It will not show PDF directly in chrome\n",
    "    \"--enable-javascript\": True\n",
    "})\n",
    "# Open the driver\n",
    "driver = webdriver.Chrome(executable_path=driver_path, options=chromeOptions)"
   ]
  },
  {
   "cell_type": "markdown",
   "metadata": {
    "collapsed": false,
    "pycharm": {
     "name": "#%% md\n"
    }
   },
   "source": [
    "## Direct Webscraping\n"
   ]
  },
  {
   "cell_type": "code",
   "execution_count": null,
   "metadata": {
    "collapsed": false,
    "pycharm": {
     "name": "#%%\n"
    }
   },
   "outputs": [],
   "source": [
    "urls = []\n",
    "driver.get(\"https://nyassembly.gov/leg/?sh=advanced\")\n",
    "sessions = ['2021-22','2019-20','2017-18','2015-16','2013-14','2011-12','2009-10','2007-08','2005-06','2003-04','2001-02','1999-00']\n",
    "for session in sessions:\n",
    "    driver.get(\"https://nyassembly.gov/leg/?sh=advanced\")\n",
    "    select_session = Select(driver.find_element_by_css_selector('select#term'))\n",
    "    select_session.select_by_visible_text(session)\n",
    "    select_type = Select(driver.find_element_by_css_selector('#leg_type'))\n",
    "    select_type.select_by_visible_text('All Types')\n",
    "    select_status = Select(driver.find_element_by_css_selector('#bill_status'))\n",
    "    select_status.select_by_visible_text('Chaptered')\n",
    "    driver.find_element_by_css_selector('#search_btn_div > input[type=button]:nth-child(1)').click()\n",
    "    sleep(1)\n",
    "    bills = driver.find_elements_by_css_selector('#vcontent_div > ul > li > a')\n",
    "    for bill in bills:\n",
    "        url = bill.get_attribute('href')\n",
    "        urls.append(url)\n",
    "        \n",
    "acttxts = []\n",
    "for url in urls:\n",
    "    urlnew = str(url).replace(\"https://nyassembly.gov/leg/?\", \"https://nyassembly.gov/leg/?default_fld=&leg_video=&\", 1) + \"&Text=Y\"\n",
    "    driver.get(urlnew)\n",
    "    time.sleep(0.1)\n",
    "    WebDriverWait(driver, 300).until(EC.presence_of_element_located((By.CSS_SELECTOR, \"#legcontent > pre\")))\n",
    "    act = driver.find_element_by_css_selector('#legcontent > pre').text\n",
    "    actnew = re.sub(\"[\\(\\[].*?[\\)\\]]\", \"\", act)\n",
    "    acttxts.append(actnew)"
   ]
  },
  {
   "attachments": {},
   "cell_type": "markdown",
   "metadata": {
    "collapsed": false,
    "pycharm": {
     "name": "#%% md\n"
    }
   },
   "source": [
    "## Text saving\n",
    "\n",
    "In this section, we used the below code to extract all full texts from PDF files and save all act full texts into several format files including excel, csv, pickle and json."
   ]
  },
  {
   "cell_type": "code",
   "execution_count": null,
   "metadata": {
    "collapsed": false,
    "pycharm": {
     "name": "#%%\n"
    }
   },
   "outputs": [],
   "source": [
    "\n",
    "datasource = pd.DataFrame({\n",
    "    'Full text': acttxts,\n",
    "})\n",
    "\n",
    "\n",
    "# save bill info into files\n",
    "datasource.to_excel('NY_Leginfo.xlsx')\n",
    "datasource.to_csv('NY_Leginfo.csv')\n",
    "datasource.to_pickle('NY_Leginfo.pkl')\n",
    "datasource.to_json('NY_Leginfo.json')"
   ]
  }
 ],
 "metadata": {
  "kernelspec": {
   "display_name": "py39",
   "language": "python",
   "name": "python3"
  },
  "language_info": {
   "codemirror_mode": {
    "name": "ipython",
    "version": 3
   },
   "file_extension": ".py",
   "mimetype": "text/x-python",
   "name": "python",
   "nbconvert_exporter": "python",
   "pygments_lexer": "ipython3",
   "version": "3.9.12 (main, Jun  1 2022, 06:36:29) \n[Clang 12.0.0 ]"
  },
  "vscode": {
   "interpreter": {
    "hash": "72db359963b886546324fdab9aa5857888ab40de550209afc182f1efe35e5205"
   }
  }
 },
 "nbformat": 4,
 "nbformat_minor": 0
}