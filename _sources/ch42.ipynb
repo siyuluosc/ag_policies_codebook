{
 "cells": [
  {
   "cell_type": "markdown",
   "source": [
    "# Ch 42 Rhode Island"
   ],
   "metadata": {
    "collapsed": false,
    "pycharm": {
     "name": "#%% md\n"
    }
   }
  },
  {
   "cell_type": "markdown",
   "source": [
    " [The State of Rhode Island General Assembly](http://webserver.rilegislature.gov/search/search.asp?SearchWhere=/Billtext97/) stores all session laws of Rhode Island. On the website, there is a *Search The Rhode Island General Assembly Website* page. Through this page, we can search all session laws.\n",
    "\n",
    "![RI Legislature](pics/ri_act.png)\n"
   ],
   "metadata": {
    "collapsed": false,
    "pycharm": {
     "name": "#%% md\n"
    }
   }
  },
  {
   "cell_type": "markdown",
   "source": [
    "## Import libraries\n",
    "As introduced in the chapter 1, we need to import some libraries as follows."
   ],
   "metadata": {
    "collapsed": false,
    "pycharm": {
     "name": "#%% md\n"
    }
   }
  },
  {
   "cell_type": "code",
   "execution_count": null,
   "outputs": [],
   "source": [
    "import time\n",
    "from selenium import webdriver\n",
    "from selenium.webdriver.common.by import By\n",
    "from selenium.webdriver.support.ui import WebDriverWait\n",
    "from selenium.webdriver.support import expected_conditions as EC\n",
    "from selenium.webdriver.support.ui import Select\n",
    "from time import sleep\n",
    "import pandas as pd\n",
    "import datefinder\n",
    "import calendar\n",
    "import os\n",
    "import unittest\n",
    "from random import randint\n",
    "import PyPDF2\n",
    "import glob\n",
    "import pickle\n",
    "import numpy as np\n",
    "import fitz"
   ],
   "metadata": {
    "collapsed": false,
    "pycharm": {
     "name": "#%%\n"
    }
   }
  },
  {
   "cell_type": "markdown",
   "source": [
    "## Browser setup\n",
    "\n",
    "Before scraping, we need to set up the browser. Here we use ChromeDriver for Google Chrome. You can download ChromeDriver from https://chromedriver.chromium.org/downloads following the version of Google Chrome you use on your laptop."
   ],
   "metadata": {
    "collapsed": false,
    "pycharm": {
     "name": "#%% md\n"
    }
   }
  },
  {
   "cell_type": "code",
   "execution_count": null,
   "outputs": [],
   "source": [
    "driver_path = 'yourpath/driver'\n",
    "\n",
    "# Change the working directory to your path on your computer\n",
    "os.chdir('yourpath')\n",
    "\n",
    "# Get the working directory\n",
    "cwd = os.getcwd()\n",
    "# Print the current working directory\n",
    "print(\"Current working directory: {0}\".format(cwd))\n",
    "\n",
    "# Set up the driver\n",
    "chromeOptions = webdriver.ChromeOptions()\n",
    "dnldpath = {\"download.default_directory\": \"your_download_path\"}\n",
    "chromeOptions.add_experimental_option('prefs', {\n",
    "    \"download.default_directory\": dnldpath,  #Change default directory for downloads\n",
    "    \"download.prompt_for_download\": False,  #To auto download the file\n",
    "    \"download.directory_upgrade\": True,\n",
    "    \"plugins.always_open_pdf_externally\": True,  #It will not show PDF directly in chrome\n",
    "    \"--enable-javascript\": True\n",
    "})\n",
    "# Open the driver\n",
    "driver = webdriver.Chrome(executable_path=driver_path, options=chromeOptions)"
   ],
   "metadata": {
    "collapsed": false,
    "pycharm": {
     "name": "#%%\n"
    }
   }
  },
  {
   "cell_type": "markdown",
   "source": [
    "## Direct webscraping\n",
    "All session laws on the website are stored as the html files. We can webscrape them directly. With observation, there is an url pattern for the session laws: `\"http://webserver.rilin.state.ri.us/PublicLaws/law\" + *year* + \"/law\" + *year*  + *act number* + \".htm\"`.\n",
    "![RI Legislature](pics/ri_act.png)"
   ],
   "metadata": {
    "collapsed": false,
    "pycharm": {
     "name": "#%% md\n"
    }
   },
   "outputs": []
  },
  {
   "cell_type": "code",
   "execution_count": null,
   "outputs": [],
   "source": [
    "act_urls = []\n",
    "checklist = []\n",
    "session_acts = []\n",
    "acttxts = []\n",
    "\n",
    "for year in range(1, 23):\n",
    "    print(str(f\"{year:02}\"))\n",
    "    session_url = \"http://webserver.rilin.state.ri.us/Lawrevision/plshort/pl\" + \"20\" + str(f\"{year:02}\") + \"nu.htm\"\n",
    "    driver.get(session_url)\n",
    "    no = len(driver.find_elements_by_css_selector(\"tbody tr\"))\n",
    "    for i in range(1, no+1):\n",
    "        print(str(f\"{i:03}\"))\n",
    "        url = \"http://webserver.rilin.state.ri.us/PublicLaws/law\" + str(f\"{year:02}\") + \"/law\" + str(f\"{year:02}\") + str(f\"{i:03}\") +\".htm\"\n",
    "        try:\n",
    "            driver.get(url)\n",
    "            sleep(1)\n",
    "            act_urls.append(url)\n",
    "            acttxt = driver.find_element_by_css_selector(\"body\").text\n",
    "            acttxts.append(acttxt)\n",
    "        except:\n",
    "            checklist.append(url)\n",
    "\n",
    "for url in act_urls:\n",
    "    driver.get(url)\n",
    "    WebDriverWait(driver, 60).until(\n",
    "        EC.presence_of_element_located((By.CSS_SELECTOR, \"body\"))\n",
    "    )\n",
    "    acttxt = driver.find_element_by_css_selector(\"body\").text\n",
    "    acttxts.append(acttxt)"
   ],
   "metadata": {
    "collapsed": false,
    "pycharm": {
     "name": "#%%\n"
    }
   }
  },
  {
   "cell_type": "markdown",
   "source": [
    "## Text extraction and saving\n",
    "\n",
    "In this section, we used the below code to extract all full texts from PDF files and save all act full texts into several format files including excel, csv, pickle and json."
   ],
   "metadata": {
    "collapsed": false,
    "pycharm": {
     "name": "#%% md\n"
    }
   }
  },
  {
   "cell_type": "code",
   "execution_count": null,
   "outputs": [],
   "source": [
    "datasource = pd.DataFrame({\n",
    "    'Full text': acttxts\n",
    "})\n",
    "\n",
    "# save bill info into files\n",
    "datasource.to_excel('RI_Leginfo.xlsx')\n",
    "datasource.to_csv('RI_Leginfo.csv')\n",
    "datasource.to_pickle('RI_Leginfo.pkl')\n",
    "datasource.to_json('RI_Leginfo.json')"
   ],
   "metadata": {
    "collapsed": false,
    "pycharm": {
     "name": "#%%\n"
    }
   }
  }
 ],
 "metadata": {
  "kernelspec": {
   "display_name": "py39",
   "language": "python",
   "name": "python3"
  },
  "language_info": {
   "codemirror_mode": {
    "name": "ipython",
    "version": 3
   },
   "file_extension": ".py",
   "mimetype": "text/x-python",
   "name": "python",
   "nbconvert_exporter": "python",
   "pygments_lexer": "ipython3",
   "version": "3.9.12 (main, Jun  1 2022, 06:36:29) \n[Clang 12.0.0 ]"
  },
  "vscode": {
   "interpreter": {
    "hash": "72db359963b886546324fdab9aa5857888ab40de550209afc182f1efe35e5205"
   }
  }
 },
 "nbformat": 4,
 "nbformat_minor": 0
}